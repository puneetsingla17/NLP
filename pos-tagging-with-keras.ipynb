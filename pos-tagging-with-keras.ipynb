{
 "cells": [
  {
   "cell_type": "code",
   "execution_count": 1,
   "metadata": {
    "_cell_guid": "b1076dfc-b9ad-4769-8c92-a6c4dae69d19",
    "_uuid": "8f2839f25d086af736a60e9eeb907d3b93b6e0e5"
   },
   "outputs": [
    {
     "name": "stdout",
     "output_type": "stream",
     "text": [
      "[]\n"
     ]
    },
    {
     "name": "stderr",
     "output_type": "stream",
     "text": [
      "Using TensorFlow backend.\n"
     ]
    }
   ],
   "source": [
    "# This Python 3 environment comes with many helpful analytics libraries installed\n",
    "# It is defined by the kaggle/python docker image: https://github.com/kaggle/docker-python\n",
    "# For example, here's several helpful packages to load in \n",
    "\n",
    "import numpy as np # linear algebra\n",
    "import pandas as pd # data processing, CSV file I/O (e.g. pd.read_csv)\n",
    "import nltk\n",
    "# Input data files are available in the \"../input/\" directory.\n",
    "# For example, running this (by clicking run or pressing Shift+Enter) will list the files in the input directory\n",
    "tagged_sentences=nltk.corpus.treebank.tagged_sents()\n",
    "import os\n",
    "print(os.listdir(\"../input\"))\n",
    "from sklearn.model_selection import train_test_split\n",
    "from keras.utils.np_utils import to_categorical\n",
    "# Any results you write to the current directory are saved as output."
   ]
  },
  {
   "cell_type": "code",
   "execution_count": 2,
   "metadata": {
    "_cell_guid": "79c7e3d0-c299-4dcb-8224-4455121ee9b0",
    "_uuid": "d629ff2d2480ee46fbb7e2d37f6b5fab8052498a"
   },
   "outputs": [
    {
     "data": {
      "text/plain": [
       "3914"
      ]
     },
     "execution_count": 2,
     "metadata": {},
     "output_type": "execute_result"
    }
   ],
   "source": [
    "len(tagged_sentences)"
   ]
  },
  {
   "cell_type": "code",
   "execution_count": 3,
   "metadata": {
    "_uuid": "2bb4d173ac2a8c90afbcc6bd8aa3b3b7b8b44564"
   },
   "outputs": [],
   "source": [
    "N=len(tagged_sentences)"
   ]
  },
  {
   "cell_type": "code",
   "execution_count": 4,
   "metadata": {
    "_uuid": "3338723dc6444becff43e48a58ac85b4f0d74f0c"
   },
   "outputs": [
    {
     "data": {
      "text/plain": [
       "3914"
      ]
     },
     "execution_count": 4,
     "metadata": {},
     "output_type": "execute_result"
    }
   ],
   "source": [
    "N"
   ]
  },
  {
   "cell_type": "code",
   "execution_count": 5,
   "metadata": {
    "_uuid": "7ec67906d33b05b3a0fc4cfc0ba7f877f8d51b86"
   },
   "outputs": [],
   "source": [
    "taggedwords=nltk.corpus.treebank.tagged_words()"
   ]
  },
  {
   "cell_type": "code",
   "execution_count": 6,
   "metadata": {
    "_uuid": "aad2a3081208824d4a7b5da59ae445dc9e8ee630"
   },
   "outputs": [
    {
     "data": {
      "text/plain": [
       "('Pierre', 'NNP')"
      ]
     },
     "execution_count": 6,
     "metadata": {},
     "output_type": "execute_result"
    }
   ],
   "source": [
    "taggedwords[0]  # all words being used with their tags"
   ]
  },
  {
   "cell_type": "code",
   "execution_count": 7,
   "metadata": {
    "_uuid": "3014254895f5055b9f7dc1cb59240deaa5811800"
   },
   "outputs": [],
   "source": [
    "sentences, sentence_tags =[], [] \n",
    "for tagged_sentence in tagged_sentences:\n",
    "    sentence, tags = zip(*tagged_sentence)\n",
    "    sentences.append(np.array(sentence))\n",
    "    sentence_tags.append(np.array(tags))"
   ]
  },
  {
   "cell_type": "code",
   "execution_count": 8,
   "metadata": {
    "_uuid": "e9a9c8dabe1b7f2eb5ee1347b4529fdc9845d9dc"
   },
   "outputs": [
    {
     "data": {
      "text/plain": [
       "array(['Pierre', 'Vinken', ',', '61', 'years', 'old', ',', 'will', 'join',\n",
       "       'the', 'board', 'as', 'a', 'nonexecutive', 'director', 'Nov.',\n",
       "       '29', '.'], dtype='<U12')"
      ]
     },
     "execution_count": 8,
     "metadata": {},
     "output_type": "execute_result"
    }
   ],
   "source": [
    "sentences[0]"
   ]
  },
  {
   "cell_type": "code",
   "execution_count": 9,
   "metadata": {
    "_uuid": "1fbe8a12243f600b16ccc808a7b091f5d7962170"
   },
   "outputs": [
    {
     "data": {
      "text/plain": [
       "True"
      ]
     },
     "execution_count": 9,
     "metadata": {},
     "output_type": "execute_result"
    }
   ],
   "source": [
    "len(sentences[8])==len(sentence_tags[8])"
   ]
  },
  {
   "cell_type": "code",
   "execution_count": 10,
   "metadata": {
    "_uuid": "815b916fc6a9154d9836fd4f770c2e1b7a08b156"
   },
   "outputs": [],
   "source": [
    "trainset,testset,ytrain,ytest=train_test_split(sentences,sentence_tags,test_size=0.2)"
   ]
  },
  {
   "cell_type": "code",
   "execution_count": 11,
   "metadata": {
    "_uuid": "96d039e48338fa8bed8a801bbc73e182f45f535b"
   },
   "outputs": [
    {
     "data": {
      "text/plain": [
       "783"
      ]
     },
     "execution_count": 11,
     "metadata": {},
     "output_type": "execute_result"
    }
   ],
   "source": [
    "# Preprocessing with data\n",
    "len(testset)"
   ]
  },
  {
   "cell_type": "code",
   "execution_count": 12,
   "metadata": {
    "_uuid": "e5552b64769005e4ce7ad7c53644bae1f8a268dd"
   },
   "outputs": [
    {
     "data": {
      "text/plain": [
       "array(['*-1', 'Moving', 'rapidly', 'through', 'school', ',', 'he',\n",
       "       'graduated', 'Phi', 'Beta', 'Kappa', 'from', 'the', 'University',\n",
       "       'of', 'Kentucky', 'at', 'age', '18', ',', 'after', '*', 'spending',\n",
       "       'only', '2', '1\\\\/2', 'years', 'in', 'college', '.'], dtype='<U10')"
      ]
     },
     "execution_count": 12,
     "metadata": {},
     "output_type": "execute_result"
    }
   ],
   "source": [
    "trainset[0]\n",
    "# arrays can stores strings\n",
    "# before applying model tokenize each training example text into word tokens\n",
    "# training set should have list of word tokens for each training example"
   ]
  },
  {
   "cell_type": "code",
   "execution_count": 13,
   "metadata": {
    "_uuid": "93c7d7e77c06b6b75d69b1a92f9dc9e19e65cdde"
   },
   "outputs": [],
   "source": [
    "# Since keras works only with numbers so we need to convert each word by unique index and with tags too"
   ]
  },
  {
   "cell_type": "code",
   "execution_count": 14,
   "metadata": {
    "_uuid": "f0b3dd4a673e1415f2b992eaef1909fd270896a9"
   },
   "outputs": [],
   "source": [
    "# VERY IMPORTANT PREPROCESSING STEP #\n",
    "words,tags=set([]),set([])\n",
    "\n",
    "for s in trainset:\n",
    "    for w in s:\n",
    "        words.add(w.lower())\n",
    "        \n",
    "for ts in ytrain:\n",
    "    for t in ts:\n",
    "        tags.add(t)\n"
   ]
  },
  {
   "cell_type": "code",
   "execution_count": 15,
   "metadata": {
    "_uuid": "d52d1138130d41c638f0ad218792c1ae3d2d0c94"
   },
   "outputs": [],
   "source": [
    "word2index={j:i+2 for i,j in enumerate(list(words))}\n",
    "word2index['-PAD-']=0    # Pad  sequences in starting or ending\n",
    "word2index['-OOV-']=1    # if unknown word in sentences replace it with OOV"
   ]
  },
  {
   "cell_type": "code",
   "execution_count": 16,
   "metadata": {
    "_uuid": "41f2afb19cd8be97a091fec0b75f5f7a97eb2909"
   },
   "outputs": [],
   "source": [
    "tag2index={t:i+1 for i,t in enumerate(list(tags))}\n",
    "tag2index['-PAD-']=0"
   ]
  },
  {
   "cell_type": "code",
   "execution_count": 17,
   "metadata": {
    "_uuid": "2a168bf2efd996716b132dae55c7998ca8c99158"
   },
   "outputs": [],
   "source": [
    "train_sent_x,test_sent_x,train_tags_y,test_tags_y=[],[],[],[]"
   ]
  },
  {
   "cell_type": "code",
   "execution_count": 18,
   "metadata": {
    "_uuid": "5c8f5b3771ac73f28bc0068c5422401289dbe987"
   },
   "outputs": [],
   "source": [
    "for s in trainset:\n",
    "    m=[]\n",
    "    for i in s:\n",
    "        try:\n",
    "            m.append(word2index[i.lower()])\n",
    "        except:\n",
    "            m.append(word2index['-OOV-'])\n",
    "    train_sent_x.append(m)"
   ]
  },
  {
   "cell_type": "code",
   "execution_count": 19,
   "metadata": {
    "_uuid": "5dab7c719602e0517e4767e03dd9774e9ca6e25c"
   },
   "outputs": [],
   "source": [
    "for s in testset:\n",
    "    m=[]\n",
    "    for i in s:\n",
    "        try:\n",
    "            m.append(word2index[i.lower()])\n",
    "        except:\n",
    "            m.append(word2index['-OOV-'])\n",
    "    test_sent_x.append(m)"
   ]
  },
  {
   "cell_type": "code",
   "execution_count": 20,
   "metadata": {
    "_uuid": "0b938df78e908af29203b22ded309e728cb0ad86"
   },
   "outputs": [
    {
     "data": {
      "text/plain": [
       "783"
      ]
     },
     "execution_count": 20,
     "metadata": {},
     "output_type": "execute_result"
    }
   ],
   "source": [
    "len(test_sent_x)    #remember 1 stands for unknown word tag"
   ]
  },
  {
   "cell_type": "code",
   "execution_count": 21,
   "metadata": {
    "_uuid": "5aeb4a3895f62d6fc79c6db62b2f19e9d4c31a64"
   },
   "outputs": [],
   "source": []
  },
  {
   "cell_type": "code",
   "execution_count": 21,
   "metadata": {
    "_uuid": "8df21a380dc2bd57f5a7c5d6cc8d8d7c2f2875bc"
   },
   "outputs": [],
   "source": [
    "# Here are assuming that virtually all tags are present in our training dataset\n",
    "# which will be present in test data set also\n",
    "# there is no tag that is present in test dataset but not in training dataset\n",
    "# VERY IMPORTANT PART OF BUILDING Algorithm\n"
   ]
  },
  {
   "cell_type": "code",
   "execution_count": 22,
   "metadata": {
    "_uuid": "7f818e31f452691e06d8539323b7ddf430f8e78d"
   },
   "outputs": [],
   "source": [
    "# Replacing Tags with indexes in train labels\n",
    "for s in ytrain:\n",
    "    m=[]\n",
    "    for j in s:\n",
    "        m.append(tag2index[j])\n",
    "    train_tags_y.append(m)"
   ]
  },
  {
   "cell_type": "code",
   "execution_count": 23,
   "metadata": {
    "_uuid": "14f9c6b57284f3ffce681c34a2023566a3203552"
   },
   "outputs": [],
   "source": []
  },
  {
   "cell_type": "code",
   "execution_count": 23,
   "metadata": {
    "_uuid": "60499674e85c143b6ea91046998bc4e2be481229"
   },
   "outputs": [
    {
     "data": {
      "text/plain": [
       "30"
      ]
     },
     "execution_count": 23,
     "metadata": {},
     "output_type": "execute_result"
    }
   ],
   "source": [
    "len(train_tags_y[0])"
   ]
  },
  {
   "cell_type": "code",
   "execution_count": 24,
   "metadata": {
    "_uuid": "7303c57fcbdac5833e87e15b3aa112296e88c088"
   },
   "outputs": [
    {
     "data": {
      "text/plain": [
       "783"
      ]
     },
     "execution_count": 24,
     "metadata": {},
     "output_type": "execute_result"
    }
   ],
   "source": [
    "len(ytrain[0])\n",
    "len(ytest)"
   ]
  },
  {
   "cell_type": "code",
   "execution_count": 25,
   "metadata": {
    "_uuid": "fa5d6ae4faac53499191e0c5c40b8db895e5df9b"
   },
   "outputs": [],
   "source": [
    "#Replacing Tags with indexes in test labels\n",
    "for s in ytest:\n",
    "    m=[]\n",
    "    for j in s:\n",
    "        m.append(tag2index[j])\n",
    "    test_tags_y.append(m)"
   ]
  },
  {
   "cell_type": "code",
   "execution_count": 26,
   "metadata": {
    "_uuid": "b1692c443939cd5d88ff7bf810a523f4fc65ba8f"
   },
   "outputs": [
    {
     "data": {
      "text/plain": [
       "783"
      ]
     },
     "execution_count": 26,
     "metadata": {},
     "output_type": "execute_result"
    }
   ],
   "source": [
    "len(ytest)\n",
    "len(test_tags_y)"
   ]
  },
  {
   "cell_type": "code",
   "execution_count": 27,
   "metadata": {
    "_uuid": "e688068307b60b5890ef72adfcafc75271e1fa9f",
    "scrolled": true
   },
   "outputs": [
    {
     "name": "stdout",
     "output_type": "stream",
     "text": [
      "[589, 1395, 8982, 1761, 7837, 1119, 2660, 4729, 4671, 6095, 7694, 2320, 42, 10108, 5740, 4758, 2006, 5908, 4414, 1119, 1195, 8427, 24, 3648, 1807, 1023, 4510, 7716, 3289, 1585]\n",
      "['*-1' 'Moving' 'rapidly' 'through' 'school' ',' 'he' 'graduated' 'Phi'\n",
      " 'Beta' 'Kappa' 'from' 'the' 'University' 'of' 'Kentucky' 'at' 'age' '18'\n",
      " ',' 'after' '*' 'spending' 'only' '2' '1\\\\/2' 'years' 'in' 'college' '.']\n",
      "['-NONE-' 'VBG' 'RB' 'IN' 'NN' ',' 'PRP' 'VBD' 'NNP' 'NNP' 'NNP' 'IN' 'DT'\n",
      " 'NNP' 'IN' 'NNP' 'IN' 'NN' 'CD' ',' 'IN' '-NONE-' 'VBG' 'RB' 'CD' 'CD'\n",
      " 'NNS' 'IN' 'NN' '.']\n",
      "[27, 17, 31, 19, 7, 2, 41, 23, 24, 24, 24, 19, 40, 24, 19, 24, 19, 7, 16, 2, 19, 27, 17, 31, 16, 16, 33, 19, 7, 18]\n"
     ]
    }
   ],
   "source": [
    "print(train_sent_x[0])\n",
    "print(trainset[0])\n",
    "print(ytrain[0])\n",
    "print(train_tags_y[0])"
   ]
  },
  {
   "cell_type": "code",
   "execution_count": 28,
   "metadata": {
    "_uuid": "f5f8a5078e5b1faf2d04179d88d6bb9d8b51c6ed"
   },
   "outputs": [],
   "source": [
    "#we have make size of input sequences to be fed into keras same as\n",
    "# that is how text data is put into Embedding"
   ]
  },
  {
   "cell_type": "code",
   "execution_count": 29,
   "metadata": {
    "_uuid": "087a7e5950e023c4750b7b4b0e5d65b4b43dc034"
   },
   "outputs": [],
   "source": [
    "maxlen=len(max(train_sent_x,key=len))"
   ]
  },
  {
   "cell_type": "code",
   "execution_count": 30,
   "metadata": {
    "_uuid": "a47cf52a60fd39cb5e5e4543c9c0e81f312cb998"
   },
   "outputs": [
    {
     "data": {
      "text/plain": [
       "271"
      ]
     },
     "execution_count": 30,
     "metadata": {},
     "output_type": "execute_result"
    }
   ],
   "source": [
    "maxlen"
   ]
  },
  {
   "cell_type": "code",
   "execution_count": 31,
   "metadata": {
    "_uuid": "2aa0b9a711ce4836819a28976e24522841b00bd5"
   },
   "outputs": [
    {
     "data": {
      "text/plain": [
       "[209,\n",
       " 1924,\n",
       " 6653,\n",
       " 27,\n",
       " 589,\n",
       " 1431,\n",
       " 42,\n",
       " 9297,\n",
       " 5740,\n",
       " 4143,\n",
       " 5261,\n",
       " 4583,\n",
       " 8086,\n",
       " 6922,\n",
       " 9405,\n",
       " 6695,\n",
       " 6538,\n",
       " 6958,\n",
       " 8101,\n",
       " 1585]"
      ]
     },
     "execution_count": 31,
     "metadata": {},
     "output_type": "execute_result"
    }
   ],
   "source": [
    "train_sent_x[1]"
   ]
  },
  {
   "cell_type": "code",
   "execution_count": 32,
   "metadata": {
    "_uuid": "30185e804b9b87a3cc69d0b4c9e3d33036b9b3a8"
   },
   "outputs": [],
   "source": [
    "from keras.preprocessing.sequence import pad_sequences\n",
    "from keras.models import Sequential\n",
    "from keras.optimizers import Adam\n",
    "from keras.layers import Dense,Dropout,LSTM,InputLayer,Bidirectional,TimeDistributed,Embedding,Activation"
   ]
  },
  {
   "cell_type": "code",
   "execution_count": 33,
   "metadata": {
    "_uuid": "7ede0f9295ff861217a81d3782a30cbe95461b36"
   },
   "outputs": [],
   "source": [
    "train_sequences_X=pad_sequences(train_sent_x,maxlen=maxlen,padding='post')\n",
    "test_sequences_x=pad_sequences(test_sent_x,maxlen=maxlen,padding='post')\n",
    "train_tagsy=pad_sequences(train_tags_y,maxlen=maxlen,padding='post')\n",
    "test_tagsy=pad_sequences(test_tags_y,maxlen=maxlen,padding='post')"
   ]
  },
  {
   "cell_type": "code",
   "execution_count": 34,
   "metadata": {
    "_uuid": "bfcc8b68b384fc7b9959f4278595b17a39d94c80"
   },
   "outputs": [
    {
     "data": {
      "text/plain": [
       "783"
      ]
     },
     "execution_count": 34,
     "metadata": {},
     "output_type": "execute_result"
    }
   ],
   "source": [
    "len(test_tags_y)\n",
    "len(test_tagsy)"
   ]
  },
  {
   "cell_type": "code",
   "execution_count": 35,
   "metadata": {
    "_uuid": "b50fada596174e34ba84fe765c33b86718e3b436"
   },
   "outputs": [
    {
     "data": {
      "text/plain": [
       "array([24, 24,  2, 16, 33, 12,  2, 46, 10, 40,  7, 19, 40, 12,  7, 24, 16,\n",
       "       18,  0,  0,  0,  0,  0,  0,  0,  0,  0,  0,  0,  0,  0,  0,  0,  0,\n",
       "        0,  0,  0,  0,  0,  0,  0,  0,  0,  0,  0,  0,  0,  0,  0,  0,  0,\n",
       "        0,  0,  0,  0,  0,  0,  0,  0,  0,  0,  0,  0,  0,  0,  0,  0,  0,\n",
       "        0,  0,  0,  0,  0,  0,  0,  0,  0,  0,  0,  0,  0,  0,  0,  0,  0,\n",
       "        0,  0,  0,  0,  0,  0,  0,  0,  0,  0,  0,  0,  0,  0,  0,  0,  0,\n",
       "        0,  0,  0,  0,  0,  0,  0,  0,  0,  0,  0,  0,  0,  0,  0,  0,  0,\n",
       "        0,  0,  0,  0,  0,  0,  0,  0,  0,  0,  0,  0,  0,  0,  0,  0,  0,\n",
       "        0,  0,  0,  0,  0,  0,  0,  0,  0,  0,  0,  0,  0,  0,  0,  0,  0,\n",
       "        0,  0,  0,  0,  0,  0,  0,  0,  0,  0,  0,  0,  0,  0,  0,  0,  0,\n",
       "        0,  0,  0,  0,  0,  0,  0,  0,  0,  0,  0,  0,  0,  0,  0,  0,  0,\n",
       "        0,  0,  0,  0,  0,  0,  0,  0,  0,  0,  0,  0,  0,  0,  0,  0,  0,\n",
       "        0,  0,  0,  0,  0,  0,  0,  0,  0,  0,  0,  0,  0,  0,  0,  0,  0,\n",
       "        0,  0,  0,  0,  0,  0,  0,  0,  0,  0,  0,  0,  0,  0,  0,  0,  0,\n",
       "        0,  0,  0,  0,  0,  0,  0,  0,  0,  0,  0,  0,  0,  0,  0,  0,  0,\n",
       "        0,  0,  0,  0,  0,  0,  0,  0,  0,  0,  0,  0,  0,  0,  0,  0],\n",
       "      dtype=int32)"
      ]
     },
     "execution_count": 35,
     "metadata": {},
     "output_type": "execute_result"
    }
   ],
   "source": [
    "test_tagsy[0]\n"
   ]
  },
  {
   "cell_type": "code",
   "execution_count": 36,
   "metadata": {
    "_uuid": "eb8bec9660853bef2ad1ba51382281260c8585d2"
   },
   "outputs": [
    {
     "data": {
      "text/plain": [
       "array([27, 17, 31, 19,  7,  2, 41, 23, 24, 24, 24, 19, 40, 24, 19, 24, 19,\n",
       "        7, 16,  2, 19, 27, 17, 31, 16, 16, 33, 19,  7, 18,  0,  0,  0,  0,\n",
       "        0,  0,  0,  0,  0,  0,  0,  0,  0,  0,  0,  0,  0,  0,  0,  0,  0,\n",
       "        0,  0,  0,  0,  0,  0,  0,  0,  0,  0,  0,  0,  0,  0,  0,  0,  0,\n",
       "        0,  0,  0,  0,  0,  0,  0,  0,  0,  0,  0,  0,  0,  0,  0,  0,  0,\n",
       "        0,  0,  0,  0,  0,  0,  0,  0,  0,  0,  0,  0,  0,  0,  0,  0,  0,\n",
       "        0,  0,  0,  0,  0,  0,  0,  0,  0,  0,  0,  0,  0,  0,  0,  0,  0,\n",
       "        0,  0,  0,  0,  0,  0,  0,  0,  0,  0,  0,  0,  0,  0,  0,  0,  0,\n",
       "        0,  0,  0,  0,  0,  0,  0,  0,  0,  0,  0,  0,  0,  0,  0,  0,  0,\n",
       "        0,  0,  0,  0,  0,  0,  0,  0,  0,  0,  0,  0,  0,  0,  0,  0,  0,\n",
       "        0,  0,  0,  0,  0,  0,  0,  0,  0,  0,  0,  0,  0,  0,  0,  0,  0,\n",
       "        0,  0,  0,  0,  0,  0,  0,  0,  0,  0,  0,  0,  0,  0,  0,  0,  0,\n",
       "        0,  0,  0,  0,  0,  0,  0,  0,  0,  0,  0,  0,  0,  0,  0,  0,  0,\n",
       "        0,  0,  0,  0,  0,  0,  0,  0,  0,  0,  0,  0,  0,  0,  0,  0,  0,\n",
       "        0,  0,  0,  0,  0,  0,  0,  0,  0,  0,  0,  0,  0,  0,  0,  0,  0,\n",
       "        0,  0,  0,  0,  0,  0,  0,  0,  0,  0,  0,  0,  0,  0,  0,  0],\n",
       "      dtype=int32)"
      ]
     },
     "execution_count": 36,
     "metadata": {},
     "output_type": "execute_result"
    }
   ],
   "source": [
    "train_tagsy[0]"
   ]
  },
  {
   "cell_type": "code",
   "execution_count": 37,
   "metadata": {
    "_uuid": "6fa681e20b83aad81236c8138d12b8ab121f4349"
   },
   "outputs": [
    {
     "data": {
      "text/plain": [
       "0"
      ]
     },
     "execution_count": 37,
     "metadata": {},
     "output_type": "execute_result"
    }
   ],
   "source": [
    "tag2index['-PAD-']"
   ]
  },
  {
   "cell_type": "code",
   "execution_count": 38,
   "metadata": {
    "_uuid": "40a63fc85090f828b7c24a2789b8e5cf6d29cc31"
   },
   "outputs": [],
   "source": [
    "model=Sequential()\n",
    "model.add(InputLayer(input_shape=(maxlen,)))\n",
    "model.add(Embedding(len(word2index),128))\n",
    "model.add(Bidirectional(LSTM(256,return_sequences=True)))\n",
    "model.add(TimeDistributed(Dense(len(tag2index))))\n",
    "model.add(Activation('softmax'))"
   ]
  },
  {
   "cell_type": "code",
   "execution_count": 39,
   "metadata": {
    "_uuid": "066d66e32df4b399bfa4f523dfe5b319b462da87"
   },
   "outputs": [
    {
     "name": "stdout",
     "output_type": "stream",
     "text": [
      "_________________________________________________________________\n",
      "Layer (type)                 Output Shape              Param #   \n",
      "=================================================================\n",
      "embedding_1 (Embedding)      (None, 271, 128)          1300608   \n",
      "_________________________________________________________________\n",
      "bidirectional_1 (Bidirection (None, 271, 512)          788480    \n",
      "_________________________________________________________________\n",
      "time_distributed_1 (TimeDist (None, 271, 47)           24111     \n",
      "_________________________________________________________________\n",
      "activation_1 (Activation)    (None, 271, 47)           0         \n",
      "=================================================================\n",
      "Total params: 2,113,199\n",
      "Trainable params: 2,113,199\n",
      "Non-trainable params: 0\n",
      "_________________________________________________________________\n"
     ]
    }
   ],
   "source": [
    "model.summary()"
   ]
  },
  {
   "cell_type": "code",
   "execution_count": 40,
   "metadata": {
    "_uuid": "874852b902c4d887a7b4bfd70065022bf8f6a7cc"
   },
   "outputs": [
    {
     "data": {
      "text/plain": [
       "[27,\n",
       " 17,\n",
       " 31,\n",
       " 19,\n",
       " 7,\n",
       " 2,\n",
       " 41,\n",
       " 23,\n",
       " 24,\n",
       " 24,\n",
       " 24,\n",
       " 19,\n",
       " 40,\n",
       " 24,\n",
       " 19,\n",
       " 24,\n",
       " 19,\n",
       " 7,\n",
       " 16,\n",
       " 2,\n",
       " 19,\n",
       " 27,\n",
       " 17,\n",
       " 31,\n",
       " 16,\n",
       " 16,\n",
       " 33,\n",
       " 19,\n",
       " 7,\n",
       " 18]"
      ]
     },
     "execution_count": 40,
     "metadata": {},
     "output_type": "execute_result"
    }
   ],
   "source": [
    "#remember number of timestamps is always at middle of dims\n",
    "train_tags_y[0]"
   ]
  },
  {
   "cell_type": "code",
   "execution_count": 41,
   "metadata": {
    "_uuid": "a1ac580fcfcecbb6a519d6ad0a726410945e51ef"
   },
   "outputs": [],
   "source": [
    "train_tags_encode_y=to_categorical(train_tagsy,len(tag2index))\n",
    "test_tags_encode_y=to_categorical(test_tagsy,len(tag2index))"
   ]
  },
  {
   "cell_type": "code",
   "execution_count": 42,
   "metadata": {
    "_uuid": "ccbc3519f9df75e7ffb9b6ffad4ff48c6368262f"
   },
   "outputs": [
    {
     "name": "stdout",
     "output_type": "stream",
     "text": [
      "(3131, 271)\n",
      "(3131, 271, 47)\n"
     ]
    }
   ],
   "source": [
    "print(train_tagsy.shape)\n",
    "print(train_tags_encode_y.shape)"
   ]
  },
  {
   "cell_type": "code",
   "execution_count": 43,
   "metadata": {
    "_uuid": "0e07365785534311773c47c31cba471457f5ae1d"
   },
   "outputs": [
    {
     "name": "stdout",
     "output_type": "stream",
     "text": [
      "(783, 271)\n"
     ]
    }
   ],
   "source": [
    "print(test_tagsy.shape)"
   ]
  },
  {
   "cell_type": "code",
   "execution_count": 44,
   "metadata": {
    "_uuid": "e9aca1190a7a766a094b359971a55d1b260ec540"
   },
   "outputs": [
    {
     "data": {
      "text/plain": [
       "783"
      ]
     },
     "execution_count": 44,
     "metadata": {},
     "output_type": "execute_result"
    }
   ],
   "source": [
    "len(train_tags_encode_y)\n",
    "len(test_tags_encode_y)"
   ]
  },
  {
   "cell_type": "code",
   "execution_count": 45,
   "metadata": {
    "_uuid": "ec6788029a6f05f9556e1b946d4928130d0ea7fa"
   },
   "outputs": [],
   "source": []
  },
  {
   "cell_type": "code",
   "execution_count": 45,
   "metadata": {
    "_uuid": "4cf120a0821d7dc99686f8d790cb8b27d5a55688"
   },
   "outputs": [],
   "source": [
    "model.compile(optimizer=Adam(0.001),loss='categorical_crossentropy',metrics=['accuracy'])"
   ]
  },
  {
   "cell_type": "code",
   "execution_count": 46,
   "metadata": {
    "_uuid": "8446a78a9d123447d28432a2f3c0841ec6531987"
   },
   "outputs": [
    {
     "name": "stdout",
     "output_type": "stream",
     "text": [
      "Train on 2504 samples, validate on 627 samples\n",
      "Epoch 1/40\n",
      "2504/2504 [==============================] - 20s 8ms/step - loss: 1.4452 - acc: 0.8583 - val_loss: 0.4136 - val_acc: 0.9035\n",
      "Epoch 2/40\n",
      "2504/2504 [==============================] - 17s 7ms/step - loss: 0.3470 - acc: 0.9064 - val_loss: 0.3216 - val_acc: 0.9046\n",
      "Epoch 3/40\n",
      "2504/2504 [==============================] - 18s 7ms/step - loss: 0.3155 - acc: 0.9103 - val_loss: 0.3101 - val_acc: 0.9166\n",
      "Epoch 4/40\n",
      "2504/2504 [==============================] - 19s 7ms/step - loss: 0.3057 - acc: 0.9166 - val_loss: 0.3020 - val_acc: 0.9168\n",
      "Epoch 5/40\n",
      "2504/2504 [==============================] - 17s 7ms/step - loss: 0.2976 - acc: 0.9167 - val_loss: 0.2944 - val_acc: 0.9169\n",
      "Epoch 6/40\n",
      "2504/2504 [==============================] - 17s 7ms/step - loss: 0.2898 - acc: 0.9169 - val_loss: 0.2868 - val_acc: 0.9179\n",
      "Epoch 7/40\n",
      "2504/2504 [==============================] - 17s 7ms/step - loss: 0.2829 - acc: 0.9183 - val_loss: 0.2809 - val_acc: 0.9206\n",
      "Epoch 8/40\n",
      "2504/2504 [==============================] - 17s 7ms/step - loss: 0.2782 - acc: 0.9217 - val_loss: 0.2767 - val_acc: 0.9249\n",
      "Epoch 9/40\n",
      "2504/2504 [==============================] - 18s 7ms/step - loss: 0.2733 - acc: 0.9246 - val_loss: 0.2727 - val_acc: 0.9237\n",
      "Epoch 10/40\n",
      "2504/2504 [==============================] - 17s 7ms/step - loss: 0.2682 - acc: 0.9282 - val_loss: 0.2666 - val_acc: 0.9312\n",
      "Epoch 11/40\n",
      "2504/2504 [==============================] - 17s 7ms/step - loss: 0.2611 - acc: 0.9330 - val_loss: 0.2582 - val_acc: 0.9343\n",
      "Epoch 12/40\n",
      "2504/2504 [==============================] - 17s 7ms/step - loss: 0.2503 - acc: 0.9373 - val_loss: 0.2445 - val_acc: 0.9383\n",
      "Epoch 13/40\n",
      "2504/2504 [==============================] - 18s 7ms/step - loss: 0.2338 - acc: 0.9421 - val_loss: 0.2260 - val_acc: 0.9432\n",
      "Epoch 14/40\n",
      "2504/2504 [==============================] - 18s 7ms/step - loss: 0.2118 - acc: 0.9465 - val_loss: 0.2031 - val_acc: 0.9470\n",
      "Epoch 15/40\n",
      "2504/2504 [==============================] - 17s 7ms/step - loss: 0.1863 - acc: 0.9507 - val_loss: 0.1780 - val_acc: 0.9517\n",
      "Epoch 16/40\n",
      "2504/2504 [==============================] - 17s 7ms/step - loss: 0.1613 - acc: 0.9568 - val_loss: 0.1568 - val_acc: 0.9576\n",
      "Epoch 17/40\n",
      "2504/2504 [==============================] - 17s 7ms/step - loss: 0.1387 - acc: 0.9623 - val_loss: 0.1343 - val_acc: 0.9623\n",
      "Epoch 18/40\n",
      "2504/2504 [==============================] - 17s 7ms/step - loss: 0.1193 - acc: 0.9676 - val_loss: 0.1172 - val_acc: 0.9682\n",
      "Epoch 19/40\n",
      "2504/2504 [==============================] - 17s 7ms/step - loss: 0.1021 - acc: 0.9740 - val_loss: 0.1026 - val_acc: 0.9738\n",
      "Epoch 20/40\n",
      "2504/2504 [==============================] - 17s 7ms/step - loss: 0.0864 - acc: 0.9797 - val_loss: 0.0899 - val_acc: 0.9784\n",
      "Epoch 21/40\n",
      "2504/2504 [==============================] - 17s 7ms/step - loss: 0.0719 - acc: 0.9845 - val_loss: 0.0782 - val_acc: 0.9818\n",
      "Epoch 22/40\n",
      "2504/2504 [==============================] - 18s 7ms/step - loss: 0.0594 - acc: 0.9881 - val_loss: 0.0680 - val_acc: 0.9848\n",
      "Epoch 23/40\n",
      "2504/2504 [==============================] - 18s 7ms/step - loss: 0.0491 - acc: 0.9906 - val_loss: 0.0590 - val_acc: 0.9864\n",
      "Epoch 24/40\n",
      "2504/2504 [==============================] - 17s 7ms/step - loss: 0.0410 - acc: 0.9922 - val_loss: 0.0540 - val_acc: 0.9875\n",
      "Epoch 25/40\n",
      "2504/2504 [==============================] - 17s 7ms/step - loss: 0.0346 - acc: 0.9934 - val_loss: 0.0495 - val_acc: 0.9883\n",
      "Epoch 26/40\n",
      "2504/2504 [==============================] - 17s 7ms/step - loss: 0.0296 - acc: 0.9943 - val_loss: 0.0462 - val_acc: 0.9889\n",
      "Epoch 27/40\n",
      "2504/2504 [==============================] - 17s 7ms/step - loss: 0.0257 - acc: 0.9950 - val_loss: 0.0431 - val_acc: 0.9894\n",
      "Epoch 28/40\n",
      "2504/2504 [==============================] - 18s 7ms/step - loss: 0.0225 - acc: 0.9956 - val_loss: 0.0410 - val_acc: 0.9899\n",
      "Epoch 29/40\n",
      "2504/2504 [==============================] - 17s 7ms/step - loss: 0.0200 - acc: 0.9960 - val_loss: 0.0392 - val_acc: 0.9904\n",
      "Epoch 30/40\n",
      "2504/2504 [==============================] - 17s 7ms/step - loss: 0.0178 - acc: 0.9964 - val_loss: 0.0376 - val_acc: 0.9907\n",
      "Epoch 31/40\n",
      "2504/2504 [==============================] - 17s 7ms/step - loss: 0.0160 - acc: 0.9968 - val_loss: 0.0362 - val_acc: 0.9909\n",
      "Epoch 32/40\n",
      "2504/2504 [==============================] - 17s 7ms/step - loss: 0.0144 - acc: 0.9971 - val_loss: 0.0356 - val_acc: 0.9909\n",
      "Epoch 33/40\n",
      "2504/2504 [==============================] - 17s 7ms/step - loss: 0.0132 - acc: 0.9973 - val_loss: 0.0345 - val_acc: 0.9911\n",
      "Epoch 34/40\n",
      "2504/2504 [==============================] - 17s 7ms/step - loss: 0.0119 - acc: 0.9976 - val_loss: 0.0337 - val_acc: 0.9913\n",
      "Epoch 35/40\n",
      "2504/2504 [==============================] - 16s 7ms/step - loss: 0.0110 - acc: 0.9978 - val_loss: 0.0337 - val_acc: 0.9913\n",
      "Epoch 36/40\n",
      "2504/2504 [==============================] - 17s 7ms/step - loss: 0.0102 - acc: 0.9979 - val_loss: 0.0330 - val_acc: 0.9915\n",
      "Epoch 37/40\n",
      "2504/2504 [==============================] - 17s 7ms/step - loss: 0.0093 - acc: 0.9981 - val_loss: 0.0326 - val_acc: 0.9914\n",
      "Epoch 38/40\n",
      "2504/2504 [==============================] - 17s 7ms/step - loss: 0.0086 - acc: 0.9982 - val_loss: 0.0325 - val_acc: 0.9915\n",
      "Epoch 39/40\n",
      "2504/2504 [==============================] - 17s 7ms/step - loss: 0.0080 - acc: 0.9983 - val_loss: 0.0324 - val_acc: 0.9916\n",
      "Epoch 40/40\n",
      "2504/2504 [==============================] - 18s 7ms/step - loss: 0.0075 - acc: 0.9985 - val_loss: 0.0320 - val_acc: 0.9916\n"
     ]
    }
   ],
   "source": [
    "history=model.fit(train_sequences_X,train_tags_encode_y,batch_size=128,epochs=40,validation_split=0.2,verbose=1)"
   ]
  },
  {
   "cell_type": "code",
   "execution_count": 47,
   "metadata": {
    "_uuid": "8f1e91c184532951ba9d617819d65e2c8fcdeca2"
   },
   "outputs": [],
   "source": []
  },
  {
   "cell_type": "code",
   "execution_count": 47,
   "metadata": {
    "_uuid": "c59cf120d802aef2aab4ba3004c252c75c1cd1e5"
   },
   "outputs": [
    {
     "name": "stdout",
     "output_type": "stream",
     "text": [
      "(783, 271, 47)\n",
      "(3131, 271)\n",
      "(783, 271)\n"
     ]
    }
   ],
   "source": [
    "print(test_tags_encode_y.shape)\n",
    "print(train_sequences_X.shape)\n",
    "print(test_sequences_x.shape)"
   ]
  },
  {
   "cell_type": "code",
   "execution_count": 48,
   "metadata": {
    "_uuid": "13188e1fee1a46570ce2d24711ae2d46eea5841a"
   },
   "outputs": [
    {
     "name": "stdout",
     "output_type": "stream",
     "text": [
      "783/783 [==============================] - 7s 9ms/step\n"
     ]
    }
   ],
   "source": [
    "scores=model.evaluate(test_sequences_x,test_tags_encode_y)"
   ]
  },
  {
   "cell_type": "code",
   "execution_count": 49,
   "metadata": {
    "_uuid": "7d3dc5e32c1e4642f52baad3492c97c42dbd42ac"
   },
   "outputs": [
    {
     "data": {
      "text/plain": [
       "[0.03239622550373029, 0.9918329069440849]"
      ]
     },
     "execution_count": 49,
     "metadata": {},
     "output_type": "execute_result"
    }
   ],
   "source": [
    "scores"
   ]
  },
  {
   "cell_type": "code",
   "execution_count": 50,
   "metadata": {
    "_uuid": "7932bff55efd9a6ba0b5506495585efe00fc4114"
   },
   "outputs": [
    {
     "data": {
      "text/plain": [
       "array(['NNP', 'NNP', ',', 'CD', 'NNS', 'JJ', ',', 'MD', 'VB', 'DT', 'NN',\n",
       "       'IN', 'DT', 'JJ', 'NN', 'NNP', 'CD', '.'], dtype='<U3')"
      ]
     },
     "execution_count": 50,
     "metadata": {},
     "output_type": "execute_result"
    }
   ],
   "source": [
    "ytest[0]"
   ]
  },
  {
   "cell_type": "code",
   "execution_count": 51,
   "metadata": {
    "_uuid": "5553a093cba2634f9fa7061755f66ad25417e12f"
   },
   "outputs": [
    {
     "data": {
      "text/plain": [
       "array(['Pierre', 'Vinken', ',', '61', 'years', 'old', ',', 'will', 'join',\n",
       "       'the', 'board', 'as', 'a', 'nonexecutive', 'director', 'Nov.',\n",
       "       '29', '.'], dtype='<U12')"
      ]
     },
     "execution_count": 51,
     "metadata": {},
     "output_type": "execute_result"
    }
   ],
   "source": [
    "testset[0]"
   ]
  },
  {
   "cell_type": "code",
   "execution_count": 52,
   "metadata": {
    "_uuid": "82fc8de9e38d71f10f8a799b44f47799fbe3d7d7"
   },
   "outputs": [],
   "source": [
    "                   "
   ]
  },
  {
   "cell_type": "code",
   "execution_count": 52,
   "metadata": {
    "_uuid": "85522f396fbb4d6cc016022eb5f30e1aafe190bd"
   },
   "outputs": [],
   "source": []
  }
 ],
 "metadata": {
  "kernelspec": {
   "display_name": "Python 3",
   "language": "python",
   "name": "python3"
  },
  "language_info": {
   "codemirror_mode": {
    "name": "ipython",
    "version": 3
   },
   "file_extension": ".py",
   "mimetype": "text/x-python",
   "name": "python",
   "nbconvert_exporter": "python",
   "pygments_lexer": "ipython3",
   "version": "3.6.6"
  }
 },
 "nbformat": 4,
 "nbformat_minor": 1
}
