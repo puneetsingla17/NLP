{
  "cells": [
    {
      "metadata": {
        "_uuid": "8f2839f25d086af736a60e9eeb907d3b93b6e0e5",
        "_cell_guid": "b1076dfc-b9ad-4769-8c92-a6c4dae69d19",
        "trusted": true
      },
      "cell_type": "code",
      "source": "# This Python 3 environment comes with many helpful analytics libraries installed\n# It is defined by the kaggle/python docker image: https://github.com/kaggle/docker-python\n# For example, here's several helpful packages to load in \n\nimport numpy as np # linear algebra\nimport pandas as pd # data processing, CSV file I/O (e.g. pd.read_csv)\nimport pandas as pd\nfrom keras.layers import Embedding,SpatialDropout1D,Input,Dropout,Activation,Bidirectional,GlobalMaxPooling1D,Dense,LSTM,Flatten\nfrom keras.models import Sequential,Model\nfrom keras.preprocessing.sequence import pad_sequences\nfrom sklearn.metrics import roc_auc_score\n# Input data files are available in the \"../input/\" directory.\n# For example, running this (by clicking run or pressing Shift+Enter) will list the files in the input directory\nimport matplotlib.pyplot as plt\nimport os\nprint(os.listdir(\"../input\"))\n\n# Any results you write to the current directory are saved as output.",
      "execution_count": 1,
      "outputs": [
        {
          "output_type": "stream",
          "text": "Using TensorFlow backend.\n",
          "name": "stderr"
        },
        {
          "output_type": "stream",
          "text": "['sampleSubmission.csv', 'unlabeledTrainData.tsv', 'testData.tsv', 'labeledTrainData.tsv']\n",
          "name": "stdout"
        }
      ]
    },
    {
      "metadata": {
        "_cell_guid": "79c7e3d0-c299-4dcb-8224-4455121ee9b0",
        "_uuid": "d629ff2d2480ee46fbb7e2d37f6b5fab8052498a",
        "trusted": true
      },
      "cell_type": "code",
      "source": "df=pd.read_csv('../input/labeledTrainData.tsv',sep='\\t',)",
      "execution_count": 2,
      "outputs": []
    },
    {
      "metadata": {
        "trusted": true,
        "_uuid": "40042732717c3fef1f2f3d46917b78e445d8554a"
      },
      "cell_type": "code",
      "source": "df.head()\ndf=df.drop(labels=['id'],axis=1)\ndf.head()",
      "execution_count": 3,
      "outputs": [
        {
          "output_type": "execute_result",
          "execution_count": 3,
          "data": {
            "text/plain": "   sentiment                                             review\n0          1  With all this stuff going down at the moment w...\n1          1  \\The Classic War of the Worlds\\\" by Timothy Hi...\n2          0  The film starts with a manager (Nicholas Bell)...\n3          0  It must be assumed that those who praised this...\n4          1  Superbly trashy and wondrously unpretentious 8...",
            "text/html": "<div>\n<style scoped>\n    .dataframe tbody tr th:only-of-type {\n        vertical-align: middle;\n    }\n\n    .dataframe tbody tr th {\n        vertical-align: top;\n    }\n\n    .dataframe thead th {\n        text-align: right;\n    }\n</style>\n<table border=\"1\" class=\"dataframe\">\n  <thead>\n    <tr style=\"text-align: right;\">\n      <th></th>\n      <th>sentiment</th>\n      <th>review</th>\n    </tr>\n  </thead>\n  <tbody>\n    <tr>\n      <th>0</th>\n      <td>1</td>\n      <td>With all this stuff going down at the moment w...</td>\n    </tr>\n    <tr>\n      <th>1</th>\n      <td>1</td>\n      <td>\\The Classic War of the Worlds\\\" by Timothy Hi...</td>\n    </tr>\n    <tr>\n      <th>2</th>\n      <td>0</td>\n      <td>The film starts with a manager (Nicholas Bell)...</td>\n    </tr>\n    <tr>\n      <th>3</th>\n      <td>0</td>\n      <td>It must be assumed that those who praised this...</td>\n    </tr>\n    <tr>\n      <th>4</th>\n      <td>1</td>\n      <td>Superbly trashy and wondrously unpretentious 8...</td>\n    </tr>\n  </tbody>\n</table>\n</div>"
          },
          "metadata": {}
        }
      ]
    },
    {
      "metadata": {
        "trusted": true,
        "_uuid": "e5b36028a25a756a96b8beff90b9da383442338e"
      },
      "cell_type": "code",
      "source": "df.sentiment.unique()",
      "execution_count": 4,
      "outputs": [
        {
          "output_type": "execute_result",
          "execution_count": 4,
          "data": {
            "text/plain": "array([1, 0])"
          },
          "metadata": {}
        }
      ]
    },
    {
      "metadata": {
        "trusted": true,
        "_uuid": "89fda001e0ed507eb520730f09e8beebaf5f8ff9"
      },
      "cell_type": "code",
      "source": "import re\nimport nltk\nfrom nltk.stem import WordNetLemmatizer\nnltk.download('stopwords')\nfrom nltk.corpus import stopwords",
      "execution_count": 5,
      "outputs": [
        {
          "output_type": "stream",
          "text": "[nltk_data] Downloading package stopwords to /usr/share/nltk_data...\n[nltk_data]   Package stopwords is already up-to-date!\n",
          "name": "stdout"
        }
      ]
    },
    {
      "metadata": {
        "trusted": true,
        "_uuid": "e1f504a753c0fe7b7cafc93e2c9d300dc087ed4d"
      },
      "cell_type": "code",
      "source": "stpwords=set(stopwords.words('english'))\nlematizer=WordNetLemmatizer()",
      "execution_count": 6,
      "outputs": []
    },
    {
      "metadata": {
        "trusted": true,
        "_uuid": "2630443a3774b04ad7c53fbd0a185827be885cbe"
      },
      "cell_type": "code",
      "source": "def clean_text(text):\n    text=re.sub(r'[^\\w\\s]','',text)\n    text=text.lower().split()\n    text=[lematizer.lemmatize(token) for token in text]\n    text=[w for w in text if w not in stpwords]\n    text=\" \".join(text)\n    return text\n\n",
      "execution_count": 8,
      "outputs": []
    },
    {
      "metadata": {
        "trusted": true,
        "_uuid": "12a937718c1c0b69d0c44872cbc19a78b0d9f540"
      },
      "cell_type": "code",
      "source": "df['processed_reviews']=df.review.apply(lambda x:clean_text(x))",
      "execution_count": 9,
      "outputs": []
    },
    {
      "metadata": {
        "trusted": true,
        "_uuid": "f5f55f0552d218272bee54f06bc560f1578b6df1"
      },
      "cell_type": "code",
      "source": "df.head()",
      "execution_count": 10,
      "outputs": [
        {
          "output_type": "execute_result",
          "execution_count": 10,
          "data": {
            "text/plain": "   sentiment                        ...                                                          processed_reviews\n0          1                        ...                          stuff going moment mj ive started listening mu...\n1          1                        ...                          classic war world timothy hines entertaining f...\n2          0                        ...                          film start manager nicholas bell giving welcom...\n3          0                        ...                          must assumed praised film greatest filmed oper...\n4          1                        ...                          superbly trashy wondrously unpretentious 80 ex...\n\n[5 rows x 3 columns]",
            "text/html": "<div>\n<style scoped>\n    .dataframe tbody tr th:only-of-type {\n        vertical-align: middle;\n    }\n\n    .dataframe tbody tr th {\n        vertical-align: top;\n    }\n\n    .dataframe thead th {\n        text-align: right;\n    }\n</style>\n<table border=\"1\" class=\"dataframe\">\n  <thead>\n    <tr style=\"text-align: right;\">\n      <th></th>\n      <th>sentiment</th>\n      <th>review</th>\n      <th>processed_reviews</th>\n    </tr>\n  </thead>\n  <tbody>\n    <tr>\n      <th>0</th>\n      <td>1</td>\n      <td>With all this stuff going down at the moment w...</td>\n      <td>stuff going moment mj ive started listening mu...</td>\n    </tr>\n    <tr>\n      <th>1</th>\n      <td>1</td>\n      <td>\\The Classic War of the Worlds\\\" by Timothy Hi...</td>\n      <td>classic war world timothy hines entertaining f...</td>\n    </tr>\n    <tr>\n      <th>2</th>\n      <td>0</td>\n      <td>The film starts with a manager (Nicholas Bell)...</td>\n      <td>film start manager nicholas bell giving welcom...</td>\n    </tr>\n    <tr>\n      <th>3</th>\n      <td>0</td>\n      <td>It must be assumed that those who praised this...</td>\n      <td>must assumed praised film greatest filmed oper...</td>\n    </tr>\n    <tr>\n      <th>4</th>\n      <td>1</td>\n      <td>Superbly trashy and wondrously unpretentious 8...</td>\n      <td>superbly trashy wondrously unpretentious 80 ex...</td>\n    </tr>\n  </tbody>\n</table>\n</div>"
          },
          "metadata": {}
        }
      ]
    },
    {
      "metadata": {
        "trusted": true,
        "_uuid": "d21db6b87ef8f5fe4c8f868f516cb6f525c1e4a8"
      },
      "cell_type": "code",
      "source": "df.review[0]",
      "execution_count": 13,
      "outputs": [
        {
          "output_type": "execute_result",
          "execution_count": 13,
          "data": {
            "text/plain": "\"With all this stuff going down at the moment with MJ i've started listening to his music, watching the odd documentary here and there, watched The Wiz and watched Moonwalker again. Maybe i just want to get a certain insight into this guy who i thought was really cool in the eighties just to maybe make up my mind whether he is guilty or innocent. Moonwalker is part biography, part feature film which i remember going to see at the cinema when it was originally released. Some of it has subtle messages about MJ's feeling towards the press and also the obvious message of drugs are bad m'kay.<br /><br />Visually impressive but of course this is all about Michael Jackson so unless you remotely like MJ in anyway then you are going to hate this and find it boring. Some may call MJ an egotist for consenting to the making of this movie BUT MJ and most of his fans would say that he made it for the fans which if true is really nice of him.<br /><br />The actual feature film bit when it finally starts is only on for 20 minutes or so excluding the Smooth Criminal sequence and Joe Pesci is convincing as a psychopathic all powerful drug lord. Why he wants MJ dead so bad is beyond me. Because MJ overheard his plans? Nah, Joe Pesci's character ranted that he wanted people to know it is he who is supplying drugs etc so i dunno, maybe he just hates MJ's music.<br /><br />Lots of cool things in this like MJ turning into a car and a robot and the whole Speed Demon sequence. Also, the director must have had the patience of a saint when it came to filming the kiddy Bad sequence as usually directors hate working with one kid let alone a whole bunch of them performing a complex dance scene.<br /><br />Bottom line, this movie is for people who like MJ on one level or another (which i think is most people). If not, then stay away. It does try and give off a wholesome message and ironically MJ's bestest buddy in this movie is a girl! Michael Jackson is truly one of the most talented people ever to grace this planet but is he guilty? Well, with all the attention i've gave this subject....hmmm well i don't know because people can be different behind closed doors, i know this for a fact. He is either an extremely nice but stupid guy or one of the most sickest liars. I hope he is not the latter.\""
          },
          "metadata": {}
        }
      ]
    },
    {
      "metadata": {
        "trusted": true,
        "_uuid": "9f22227c02781426f23e9df67dd7e3f733f1af02"
      },
      "cell_type": "code",
      "source": "df.processed_reviews[0]",
      "execution_count": 14,
      "outputs": [
        {
          "output_type": "execute_result",
          "execution_count": 14,
          "data": {
            "text/plain": "'stuff going moment mj ive started listening music watching odd documentary watched wiz watched moonwalker maybe want get certain insight guy thought wa really cool eighty maybe make mind whether guilty innocent moonwalker part biography part feature film remember going see cinema wa originally released ha subtle message mjs feeling towards press also obvious message drug bad mkaybr br visually impressive course michael jackson unless remotely like mj anyway going hate find boring may call mj egotist consenting making movie mj fan would say made fan true really nice himbr br actual feature film bit finally start 20 minute excluding smooth criminal sequence joe pesci convincing psychopathic powerful drug lord want mj dead bad beyond mj overheard plan nah joe pescis character ranted wanted people know supplying drug etc dunno maybe hate mjs musicbr br lot cool thing like mj turning car robot whole speed demon sequence also director must patience saint came filming kiddy bad sequence usually director hate working one kid let alone whole bunch performing complex dance scenebr br bottom line movie people like mj one level another think people stay away doe try give wholesome message ironically mjs bestest buddy movie girl michael jackson truly one talented people ever grace planet guilty well attention ive gave subjecthmmm well dont know people different behind closed door know fact either extremely nice stupid guy one sickest liar hope latter'"
          },
          "metadata": {}
        }
      ]
    },
    {
      "metadata": {
        "trusted": true,
        "_uuid": "c14fc04e17b675b8f0b74002a33db974d5b406b5"
      },
      "cell_type": "code",
      "source": "from keras.preprocessing.text import Tokenizer",
      "execution_count": 15,
      "outputs": []
    },
    {
      "metadata": {
        "trusted": true,
        "_uuid": "701b37a9e65ce5ef2c8d41ba698229116383e0e3"
      },
      "cell_type": "code",
      "source": "max_features=8000\ntokenizer=Tokenizer(num_words=max_features)\ntokenizer.fit_on_texts(df.processed_reviews)\nlist_tokenized_train=tokenizer.texts_to_sequences(df.processed_reviews)",
      "execution_count": 17,
      "outputs": []
    },
    {
      "metadata": {
        "trusted": true,
        "_uuid": "0f47405d8ad75ee5240ca0d3b1a0eace185cba8b"
      },
      "cell_type": "code",
      "source": "list_tokenized_train[0]",
      "execution_count": 18,
      "outputs": [
        {
          "output_type": "execute_result",
          "execution_count": 18,
          "data": {
            "text/plain": "[436,\n 85,\n 153,\n 113,\n 531,\n 2420,\n 136,\n 71,\n 908,\n 482,\n 197,\n 197,\n 186,\n 61,\n 13,\n 659,\n 1855,\n 80,\n 102,\n 3,\n 17,\n 546,\n 3555,\n 186,\n 15,\n 231,\n 594,\n 2293,\n 1158,\n 59,\n 4004,\n 59,\n 357,\n 4,\n 271,\n 85,\n 16,\n 329,\n 3,\n 1625,\n 530,\n 7,\n 1162,\n 540,\n 316,\n 793,\n 3137,\n 22,\n 467,\n 540,\n 763,\n 24,\n 1,\n 1783,\n 1027,\n 173,\n 371,\n 1425,\n 775,\n 2329,\n 6,\n 487,\n 85,\n 585,\n 60,\n 262,\n 109,\n 414,\n 160,\n 2,\n 118,\n 14,\n 44,\n 30,\n 118,\n 194,\n 17,\n 230,\n 1889,\n 1,\n 638,\n 357,\n 4,\n 116,\n 310,\n 142,\n 776,\n 103,\n 3361,\n 1018,\n 303,\n 759,\n 953,\n 850,\n 763,\n 1342,\n 61,\n 266,\n 24,\n 591,\n 820,\n 759,\n 10,\n 365,\n 21,\n 35,\n 763,\n 477,\n 186,\n 585,\n 7073,\n 1,\n 66,\n 546,\n 29,\n 6,\n 1429,\n 335,\n 1520,\n 133,\n 1835,\n 1444,\n 303,\n 22,\n 67,\n 131,\n 4664,\n 3782,\n 272,\n 1267,\n 24,\n 303,\n 510,\n 67,\n 585,\n 658,\n 5,\n 135,\n 159,\n 495,\n 133,\n 630,\n 3179,\n 1165,\n 637,\n 3845,\n 1,\n 1198,\n 121,\n 2,\n 21,\n 6,\n 5,\n 443,\n 76,\n 32,\n 21,\n 524,\n 155,\n 51,\n 128,\n 62,\n 7074,\n 540,\n 3334,\n 1405,\n 2,\n 88,\n 371,\n 1425,\n 258,\n 5,\n 893,\n 21,\n 52,\n 1365,\n 958,\n 2293,\n 20,\n 567,\n 113,\n 404,\n 20,\n 26,\n 35,\n 21,\n 181,\n 398,\n 4530,\n 961,\n 35,\n 94,\n 257,\n 458,\n 230,\n 284,\n 80,\n 5,\n 7075,\n 267,\n 1401]"
          },
          "metadata": {}
        }
      ]
    },
    {
      "metadata": {
        "trusted": true,
        "_uuid": "35a1e8d9e81d64fbe712eec421dfa0a5ca1b7485"
      },
      "cell_type": "code",
      "source": "sorted(tokenizer.word_counts.items(),key=lambda x:x[1],reverse=True)",
      "execution_count": 23,
      "outputs": [
        {
          "output_type": "execute_result",
          "execution_count": 23,
          "data": {
            "text/plain": "[('br', 57145),\n ('movie', 49596),\n ('wa', 48014),\n ('film', 45186),\n ('one', 26667),\n ('like', 20105),\n ('ha', 16849),\n ('time', 14869),\n ('good', 14609),\n ('character', 13807),\n ('story', 12649),\n ('even', 12504),\n ('get', 12424),\n ('would', 12135),\n ('make', 11915),\n ('see', 11762),\n ('really', 11664),\n ('scene', 10232),\n ('much', 9585),\n ('well', 9489),\n ('people', 9219),\n ('also', 9073),\n ('great', 8925),\n ('bad', 8913),\n ('first', 8858),\n ('dont', 8494),\n ('way', 8457),\n ('show', 8358),\n ('thing', 8024),\n ('made', 7990),\n ('could', 7713),\n ('think', 7660),\n ('go', 7404),\n ('life', 7386),\n ('know', 6930),\n ('watch', 6896),\n ('two', 6649),\n ('many', 6640),\n ('love', 6635),\n ('actor', 6566),\n ('seen', 6529),\n ('plot', 6529),\n ('look', 6451),\n ('say', 6433),\n ('never', 6425),\n ('little', 6388),\n ('end', 6313),\n ('acting', 6296),\n ('year', 6271),\n ('best', 6269),\n ('doe', 5901),\n ('ever', 5804),\n ('take', 5614),\n ('come', 5602),\n ('still', 5592),\n ('man', 5577),\n ('better', 5548),\n ('work', 5340),\n ('part', 5069),\n ('find', 5057),\n ('want', 4970),\n ('give', 4931),\n ('something', 4889),\n ('back', 4825),\n ('im', 4809),\n ('lot', 4725),\n ('director', 4711),\n ('performance', 4580),\n ('doesnt', 4563),\n ('real', 4516),\n ('watching', 4513),\n ('woman', 4491),\n ('though', 4415),\n ('didnt', 4355),\n ('play', 4344),\n ('another', 4265),\n ('new', 4234),\n ('actually', 4211),\n ('nothing', 4210),\n ('guy', 4197),\n ('role', 4124),\n ('u', 4077),\n ('old', 4076),\n ('funny', 4072),\n ('going', 4041),\n ('every', 3960),\n ('point', 3856),\n ('girl', 3847),\n ('cast', 3763),\n ('thats', 3742),\n ('cant', 3741),\n ('world', 3729),\n ('quite', 3715),\n ('fact', 3697),\n ('feel', 3666),\n ('pretty', 3638),\n ('young', 3623),\n ('day', 3623),\n ('seems', 3604),\n ('got', 3574),\n ('around', 3531),\n ('thought', 3507),\n ('minute', 3491),\n ('however', 3471),\n ('comedy', 3440),\n ('horror', 3438),\n ('star', 3404),\n ('enough', 3378),\n ('may', 3371),\n ('original', 3359),\n ('right', 3353),\n ('action', 3352),\n ('ive', 3348),\n ('big', 3338),\n ('family', 3309),\n ('bit', 3292),\n ('without', 3241),\n ('fan', 3225),\n ('always', 3206),\n ('series', 3199),\n ('line', 3177),\n ('isnt', 3166),\n ('long', 3164),\n ('saw', 3145),\n ('friend', 3108),\n ('set', 3106),\n ('almost', 3102),\n ('try', 3082),\n ('least', 3072),\n ('script', 3064),\n ('must', 3053),\n ('interesting', 3052),\n ('whole', 3048),\n ('last', 2960),\n ('kid', 2941),\n ('music', 2939),\n ('done', 2929),\n ('kind', 2924),\n ('anything', 2889),\n ('might', 2889),\n ('shot', 2877),\n ('start', 2868),\n ('since', 2860),\n ('far', 2842),\n ('probably', 2825),\n ('reason', 2819),\n ('book', 2773),\n ('rather', 2726),\n ('put', 2721),\n ('effect', 2709),\n ('place', 2692),\n ('worst', 2683),\n ('moment', 2669),\n ('yet', 2669),\n ('away', 2658),\n ('tv', 2636),\n ('sure', 2633),\n ('need', 2619),\n ('let', 2615),\n ('making', 2599),\n ('tell', 2573),\n ('idea', 2570),\n ('audience', 2568),\n ('found', 2558),\n ('turn', 2547),\n ('fun', 2547),\n ('played', 2536),\n ('anyone', 2531),\n ('episode', 2515),\n ('child', 2513),\n ('although', 2490),\n ('believe', 2479),\n ('course', 2467),\n ('trying', 2462),\n ('especially', 2432),\n ('hard', 2392),\n ('job', 2367),\n ('american', 2359),\n ('mean', 2358),\n ('someone', 2345),\n ('different', 2341),\n ('ending', 2335),\n ('version', 2332),\n ('wasnt', 2329),\n ('dvd', 2281),\n ('maybe', 2279),\n ('problem', 2278),\n ('money', 2269),\n ('main', 2256),\n ('worth', 2252),\n ('sense', 2248),\n ('everything', 2245),\n ('looking', 2242),\n ('true', 2241),\n ('keep', 2238),\n ('screen', 2237),\n ('watched', 2215),\n ('help', 2213),\n ('2', 2199),\n ('second', 2195),\n ('three', 2185),\n ('night', 2175),\n ('john', 2174),\n ('seem', 2168),\n ('said', 2163),\n ('war', 2157),\n ('house', 2142),\n ('together', 2134),\n ('instead', 2132),\n ('10', 2127),\n ('beautiful', 2126),\n ('wife', 2126),\n ('later', 2119),\n ('everyone', 2089),\n ('le', 2082),\n ('special', 2075),\n ('left', 2073),\n ('seeing', 2061),\n ('father', 2055),\n ('excellent', 2032),\n ('boy', 2028),\n ('lead', 2021),\n ('read', 2014),\n ('hour', 2008),\n ('viewer', 1997),\n ('death', 1997),\n ('classic', 1986),\n ('black', 1972),\n ('simply', 1960),\n ('nice', 1959),\n ('mind', 1958),\n ('youre', 1930),\n ('high', 1916),\n ('short', 1913),\n ('sound', 1905),\n ('name', 1900),\n ('laugh', 1892),\n ('piece', 1881),\n ('completely', 1874),\n ('eye', 1865),\n ('picture', 1857),\n ('else', 1855),\n ('production', 1854),\n ('poor', 1848),\n ('face', 1844),\n ('song', 1840),\n ('home', 1839),\n ('used', 1838),\n ('given', 1835),\n ('hollywood', 1832),\n ('human', 1821),\n ('men', 1821),\n ('rest', 1816),\n ('use', 1783),\n ('enjoy', 1781),\n ('couple', 1780),\n ('either', 1747),\n ('truly', 1737),\n ('kill', 1734),\n ('along', 1727),\n ('word', 1723),\n ('boring', 1721),\n ('head', 1719),\n ('half', 1718),\n ('wrong', 1715),\n ('dead', 1711),\n ('hope', 1701),\n ('camera', 1698),\n ('hand', 1696),\n ('video', 1683),\n ('remember', 1677),\n ('came', 1664),\n ('next', 1664),\n ('recommend', 1660),\n ('perhaps', 1655),\n ('mr', 1640),\n ('full', 1633),\n ('case', 1633),\n ('person', 1632),\n ('sort', 1631),\n ('understand', 1627),\n ('wonderful', 1626),\n ('attempt', 1621),\n ('stupid', 1617),\n ('killer', 1616),\n ('getting', 1615),\n ('others', 1613),\n ('dialogue', 1605),\n ('run', 1604),\n ('fall', 1603),\n ('school', 1600),\n ('title', 1599),\n ('playing', 1599),\n ('awful', 1597),\n ('brother', 1592),\n ('terrible', 1585),\n ('sex', 1583),\n ('small', 1579),\n ('act', 1579),\n ('definitely', 1573),\n ('often', 1567),\n ('care', 1563),\n ('sequence', 1552),\n ('early', 1546),\n ('top', 1541),\n ('become', 1535),\n ('perfect', 1535),\n ('game', 1531),\n ('style', 1527),\n ('finally', 1523),\n ('review', 1518),\n ('felt', 1515),\n ('example', 1513),\n ('supposed', 1511),\n ('mother', 1506),\n ('feeling', 1505),\n ('joke', 1505),\n ('couldnt', 1504),\n ('liked', 1502),\n ('waste', 1497),\n ('budget', 1493),\n ('flick', 1491),\n ('actress', 1491),\n ('lost', 1486),\n ('absolutely', 1481),\n ('yes', 1480),\n ('entire', 1460),\n ('went', 1459),\n ('cinema', 1455),\n ('writer', 1455),\n ('certainly', 1453),\n ('written', 1451),\n ('live', 1450),\n ('shes', 1446),\n ('car', 1442),\n ('art', 1437),\n ('begin', 1436),\n ('quality', 1427),\n ('evil', 1419),\n ('white', 1416),\n ('overall', 1416),\n ('lack', 1414),\n ('several', 1413),\n ('son', 1410),\n ('loved', 1405),\n ('drama', 1404),\n ('direction', 1404),\n ('comment', 1401),\n ('id', 1397),\n ('favorite', 1393),\n ('worse', 1392),\n ('beginning', 1388),\n ('3', 1380),\n ('fight', 1377),\n ('becomes', 1376),\n ('entertaining', 1375),\n ('feature', 1366),\n ('seemed', 1362),\n ('murder', 1360),\n ('based', 1358),\n ('already', 1358),\n ('despite', 1352),\n ('oh', 1350),\n ('number', 1344),\n ('wanted', 1342),\n ('dark', 1340),\n ('unfortunately', 1331),\n ('throughout', 1329),\n ('side', 1328),\n ('final', 1325),\n ('michael', 1323),\n ('meet', 1323),\n ('1', 1315),\n ('change', 1310),\n ('totally', 1302),\n ('fine', 1298),\n ('wont', 1295),\n ('relationship', 1293),\n ('matter', 1292),\n ('writing', 1286),\n ('amazing', 1282),\n ('low', 1280),\n ('guess', 1279),\n ('youll', 1275),\n ('heart', 1274),\n ('humor', 1269),\n ('hero', 1265),\n ('called', 1263),\n ('history', 1261),\n ('town', 1245),\n ('age', 1244),\n ('past', 1243),\n ('genre', 1240),\n ('able', 1240),\n ('enjoyed', 1239),\n ('theyre', 1239),\n ('daughter', 1237),\n ('behind', 1236),\n ('event', 1236),\n ('today', 1236),\n ('type', 1236),\n ('move', 1226),\n ('voice', 1224),\n ('gave', 1217),\n ('city', 1217),\n ('hit', 1214),\n ('sometimes', 1193),\n ('experience', 1193),\n ('theme', 1192),\n ('zombie', 1191),\n ('power', 1190),\n ('cut', 1184),\n ('horrible', 1168),\n ('call', 1166),\n ('chance', 1166),\n ('soon', 1161),\n ('save', 1156),\n ('expect', 1155),\n ('obviously', 1152),\n ('element', 1151),\n ('wonder', 1151),\n ('credit', 1150),\n ('god', 1145),\n ('talent', 1142),\n ('directed', 1141),\n ('thinking', 1141),\n ('ill', 1140),\n ('brilliant', 1135),\n ('add', 1132),\n ('close', 1129),\n ('body', 1127),\n ('decent', 1124),\n ('musical', 1123),\n ('highly', 1122),\n ('question', 1120),\n ('stuff', 1116),\n ('stop', 1116),\n ('group', 1113),\n ('blood', 1113),\n ('lady', 1113),\n ('late', 1113),\n ('situation', 1112),\n ('level', 1103),\n ('took', 1098),\n ('wish', 1098),\n ('except', 1097),\n ('cannot', 1095),\n ('novel', 1094),\n ('heard', 1094),\n ('stand', 1089),\n ('leave', 1089),\n ('hell', 1087),\n ('score', 1083),\n ('killed', 1081),\n ('robert', 1075),\n ('police', 1075),\n ('wouldnt', 1066),\n ('extremely', 1062),\n ('view', 1062),\n ('strong', 1060),\n ('interest', 1060),\n ('happens', 1056),\n ('particularly', 1053),\n ('james', 1051),\n ('career', 1048),\n ('involved', 1043),\n ('obvious', 1041),\n ('happened', 1041),\n ('order', 1038),\n ('husband', 1038),\n ('told', 1037),\n ('talk', 1034),\n ('living', 1032),\n ('rating', 1027),\n ('violence', 1027),\n ('light', 1026),\n ('etc', 1021),\n ('theater', 1020),\n ('including', 1020),\n ('country', 1019),\n ('complete', 1017),\n ('documentary', 1015),\n ('dream', 1014),\n ('coming', 1012),\n ('king', 1011),\n ('david', 1007),\n ('anyway', 1006),\n ('twist', 1002),\n ('looked', 1002),\n ('please', 1001),\n ('opinion', 1000),\n ('effort', 999),\n ('itbr', 998),\n ('female', 998),\n ('alone', 996),\n ('filmmaker', 996),\n ('none', 993),\n ('simple', 993),\n ('exactly', 990),\n ('slow', 989),\n ('reality', 989),\n ('sequel', 988),\n ('ok', 987),\n ('happen', 987),\n ('shown', 987),\n ('ago', 985),\n ('whose', 979),\n ('room', 977),\n ('taken', 977),\n ('usually', 976),\n ('sister', 975),\n ('serious', 968),\n ('season', 967),\n ('across', 963),\n ('cinematography', 961),\n ('opening', 959),\n ('somewhat', 958),\n ('running', 958),\n ('annoying', 958),\n ('sad', 957),\n ('deal', 956),\n ('known', 954),\n ('miss', 953),\n ('stay', 952),\n ('usual', 950),\n ('comic', 949),\n ('possible', 949),\n ('value', 949),\n ('gore', 948),\n ('released', 944),\n ('started', 943),\n ('local', 943),\n ('rock', 942),\n ('huge', 941),\n ('major', 940),\n ('seriously', 939),\n ('crap', 938),\n ('scary', 937),\n ('saying', 936),\n ('message', 935),\n ('mostly', 927),\n ('ridiculous', 925),\n ('english', 924),\n ('taking', 922),\n ('hilarious', 921),\n ('cool', 920),\n ('figure', 918),\n ('4', 917),\n ('talking', 916),\n ('street', 915),\n ('return', 913),\n ('tale', 912),\n ('due', 910),\n ('george', 907),\n ('apparently', 906),\n ('strange', 904),\n ('5', 902),\n ('thriller', 901),\n ('basically', 899),\n ('important', 897),\n ('single', 897),\n ('supporting', 895),\n ('jack', 895),\n ('clearly', 894),\n ('knew', 891),\n ('happy', 890),\n ('attention', 889),\n ('mention', 888),\n ('turned', 887),\n ('oscar', 884),\n ('arent', 883),\n ('dialog', 882),\n ('surprise', 881),\n ('british', 880),\n ('easily', 879),\n ('monster', 878),\n ('mystery', 877),\n ('result', 871),\n ('paul', 871),\n ('open', 868),\n ('bring', 861),\n ('moviebr', 861),\n ('television', 860),\n ('whats', 859),\n ('hate', 856),\n ('modern', 856),\n ('cop', 856),\n ('cheap', 855),\n ('future', 853),\n ('silly', 852),\n ('beyond', 851),\n ('member', 851),\n ('adult', 849),\n ('whether', 848),\n ('disappointed', 848),\n ('four', 848),\n ('earth', 847),\n ('peter', 847),\n ('five', 844),\n ('parent', 842),\n ('dog', 841),\n ('animation', 841),\n ('romantic', 839),\n ('producer', 839),\n ('similar', 839),\n ('class', 838),\n ('form', 837),\n ('villain', 836),\n ('team', 835),\n ('entertainment', 834),\n ('aspect', 834),\n ('hold', 832),\n ('appears', 830),\n ('giving', 829),\n ('upon', 827),\n ('release', 826),\n ('richard', 825),\n ('predictable', 824),\n ('doubt', 824),\n ('image', 822),\n ('storyline', 822),\n ('state', 821),\n ('break', 819),\n ('crime', 816),\n ('havent', 815),\n ('within', 813),\n ('80', 808),\n ('spoiler', 807),\n ('nearly', 807),\n ('bunch', 806),\n ('buy', 805),\n ('viewing', 805),\n ('enjoyable', 802),\n ('ten', 800),\n ('filmbr', 800),\n ('killing', 797),\n ('dance', 796),\n ('actual', 791),\n ('york', 790),\n ('using', 789),\n ('moving', 789),\n ('middle', 788),\n ('lee', 787),\n ('subject', 786),\n ('present', 785),\n ('surprised', 785),\n ('named', 784),\n ('gun', 782),\n ('note', 782),\n ('showing', 780),\n ('dull', 778),\n ('among', 778),\n ('setting', 772),\n ('fantastic', 771),\n ('typical', 771),\n ('easy', 766),\n ('general', 766),\n ('working', 765),\n ('certain', 763),\n ('clear', 763),\n ('tom', 761),\n ('tried', 761),\n ('red', 761),\n ('standard', 758),\n ('de', 758),\n ('near', 756),\n ('victim', 756),\n ('straight', 755),\n ('avoid', 754),\n ('soundtrack', 754),\n ('material', 754),\n ('french', 753),\n ('famous', 751),\n ('check', 751),\n ('emotion', 750),\n ('period', 749),\n ('somehow', 749),\n ('sorry', 749),\n ('soldier', 746),\n ('kept', 746),\n ('greatest', 744),\n ('stage', 740),\n ('editing', 738),\n ('brought', 736),\n ('weak', 735),\n ('filmed', 733),\n ('force', 733),\n ('battle', 732),\n ('disney', 730),\n ('baby', 730),\n ('premise', 729),\n ('detail', 729),\n ('particular', 728),\n ('mark', 728),\n ('wait', 727),\n ('hear', 726),\n ('gone', 726),\n ('space', 726),\n ('student', 720),\n ('animal', 718),\n ('western', 718),\n ('third', 717),\n ('cartoon', 717),\n ('learn', 716),\n ('realistic', 715),\n ('imagine', 714),\n ('atmosphere', 714),\n ('youve', 714),\n ('truth', 714),\n ('eventually', 713),\n ('fast', 708),\n ('screenplay', 707),\n ('romance', 707),\n ('america', 706),\n ('offer', 706),\n ('decided', 704),\n ('walk', 703),\n ('forget', 701),\n ('possibly', 701),\n ('nature', 700),\n ('rent', 700),\n ('lame', 699),\n ('fit', 697),\n ('follow', 696),\n ('became', 696),\n ('leaf', 694),\n ('background', 693),\n ('indeed', 693),\n ('japanese', 691),\n ('sit', 690),\n ('difficult', 690),\n ('secret', 688),\n ('male', 687),\n ('poorly', 687),\n ('remake', 686),\n ('expected', 686),\n ('sexual', 686),\n ('die', 686),\n ('cause', 684),\n ('whatever', 684),\n ('average', 680),\n ('reading', 679),\n ('pay', 679),\n ('escape', 677),\n ('70', 676),\n ('issue', 675),\n ('suspense', 675),\n ('okay', 673),\n ('society', 672),\n ('focus', 672),\n ('studio', 670),\n ('believable', 668),\n ('choice', 666),\n ('needed', 665),\n ('match', 664),\n ('dr', 663),\n ('doctor', 663),\n ('beauty', 661),\n ('joe', 656),\n ('touch', 655),\n ('accent', 653),\n ('copy', 653),\n ('drug', 652),\n ('bill', 652),\n ('forced', 651),\n ('realize', 651),\n ('emotional', 650),\n ('otherwise', 650),\n ('fantasy', 650),\n ('shame', 650),\n ('masterpiece', 649),\n ('memorable', 649),\n ('development', 649),\n ('la', 649),\n ('unless', 648),\n ('20', 648),\n ('superb', 644),\n ('b', 644),\n ('older', 644),\n ('write', 644),\n ('earlier', 643),\n ('weird', 643),\n ('crazy', 643),\n ('interested', 643),\n ('footage', 641),\n ('vampire', 641),\n ('adventure', 640),\n ('wood', 640),\n ('cover', 639),\n ('ghost', 637),\n ('dramatic', 636),\n ('fear', 635),\n ('towards', 634),\n ('badly', 632),\n ('ask', 632),\n ('win', 632),\n ('total', 631),\n ('previous', 629),\n ('hot', 629),\n ('brings', 628),\n ('lover', 627),\n ('cry', 626),\n ('plus', 625),\n ('personal', 624),\n ('plenty', 623),\n ('free', 623),\n ('incredibly', 622),\n ('worked', 622),\n ('spirit', 621),\n ('fire', 620),\n ('directing', 619),\n ('cheesy', 618),\n ('quickly', 618),\n ('perfectly', 618),\n ('admit', 618),\n ('deep', 617),\n ('award', 616),\n ('unique', 616),\n ('mess', 615),\n ('plan', 614),\n ('water', 614),\n ('creepy', 614),\n ('girlfriend', 614),\n ('appear', 611),\n ('leading', 611),\n ('costume', 611),\n ('hardly', 609),\n ('gay', 609),\n ('week', 609),\n ('meant', 609),\n ('casting', 608),\n ('cat', 608),\n ('imdb', 606),\n ('forward', 606),\n ('apart', 606),\n ('ben', 604),\n ('christmas', 604),\n ('30', 603),\n ('various', 603),\n ('party', 603),\n ('rate', 601),\n ('business', 601),\n ('create', 600),\n ('potential', 599),\n ('band', 597),\n ('inside', 595),\n ('scifi', 594),\n ('box', 593),\n ('project', 592),\n ('powerful', 591),\n ('mistake', 590),\n ('rich', 590),\n ('portrayed', 589),\n ('pick', 589),\n ('front', 589),\n ('trouble', 588),\n ('outside', 588),\n ('air', 587),\n ('success', 585),\n ('fairly', 585),\n ('90', 584),\n ('manages', 583),\n ('expecting', 583),\n ('color', 583),\n ('deserves', 582),\n ('amount', 582),\n ('jane', 582),\n ('fails', 582),\n ('missing', 581),\n ('political', 581),\n ('term', 579),\n ('german', 579),\n ('appearance', 578),\n ('location', 577),\n ('dumb', 577),\n ('attack', 576),\n ('fighting', 576),\n ('unlike', 576),\n ('plain', 574),\n ('scott', 574),\n ('company', 573),\n ('william', 572),\n ('recently', 571),\n ('nudity', 568),\n ('crew', 568),\n ('portrayal', 568),\n ('married', 567),\n ('agree', 563),\n ('sadly', 563),\n ('telling', 563),\n ('concept', 562),\n ('acted', 562),\n ('talented', 560),\n ('cute', 558),\n ('chase', 557),\n ('pure', 557),\n ('island', 554),\n ('stick', 554),\n ('public', 553),\n ('incredible', 553),\n ('missed', 553),\n ('us', 552),\n ('tension', 552),\n ('memory', 552),\n ('throw', 552),\n ('sweet', 552),\n ('era', 552),\n ('odd', 550),\n ('player', 550),\n ('ability', 550),\n ('mary', 549),\n ('list', 549),\n ('flat', 548),\n ('following', 547),\n ('store', 547),\n ('caught', 547),\n ('social', 546),\n ('large', 545),\n ('decides', 545),\n ('office', 543),\n ('basic', 543),\n ('pace', 542),\n ('considering', 541),\n ('waiting', 540),\n ('mentioned', 539),\n ('alien', 538),\n ('catch', 537),\n ('popular', 535),\n ('ended', 535),\n ('master', 535),\n ('positive', 534),\n ('slightly', 533),\n ('shoot', 533),\n ('depth', 533),\n ('suddenly', 532),\n ('wasted', 532),\n ('compared', 530),\n ('neither', 530),\n ('spent', 529),\n ('wrote', 529),\n ('entirely', 526),\n ('language', 526),\n ('tone', 525),\n ('familiar', 523),\n ('intelligent', 523),\n ('created', 523),\n ('italian', 522),\n ('adaptation', 522),\n ('answer', 521),\n ('respect', 521),\n ('creature', 520),\n ('ultimately', 520),\n ('convincing', 519),\n ('century', 519),\n ('clever', 519),\n ('bored', 519),\n ('visual', 518),\n ('planet', 517),\n ('pull', 517),\n ('control', 517),\n ('door', 515),\n ('brain', 515),\n ('biggest', 514),\n ('soul', 513),\n ('revenge', 512),\n ('consider', 511),\n ('laughing', 511),\n ('successful', 510),\n ('recent', 510),\n ('indian', 509),\n ('drive', 509),\n ('computer', 508),\n ('science', 508),\n ('extra', 508),\n ('critic', 506),\n ('spend', 506),\n ('million', 506),\n ('violent', 505),\n ('channel', 504),\n ('slasher', 504),\n ('dancing', 503),\n ('12', 502),\n ('appreciate', 502),\n ('former', 502),\n ('maker', 501),\n ('reviewer', 501),\n ('died', 501),\n ('cold', 501),\n ('speak', 501),\n ('filled', 500),\n ('taste', 500),\n ('singing', 500),\n ('younger', 498),\n ('produced', 497),\n ('culture', 496),\n ('detective', 496),\n ('solid', 496),\n ('shooting', 495),\n ('capture', 495),\n ('8', 495),\n ...]"
          },
          "metadata": {}
        }
      ]
    },
    {
      "metadata": {
        "trusted": true,
        "_uuid": "57855914bcf8d67dd4f21dfd70880273953ab7ae"
      },
      "cell_type": "code",
      "source": "tokenizer.word_index",
      "execution_count": 24,
      "outputs": [
        {
          "output_type": "execute_result",
          "execution_count": 24,
          "data": {
            "text/plain": "{'br': 1,\n 'movie': 2,\n 'wa': 3,\n 'film': 4,\n 'one': 5,\n 'like': 6,\n 'ha': 7,\n 'time': 8,\n 'good': 9,\n 'character': 10,\n 'story': 11,\n 'even': 12,\n 'get': 13,\n 'would': 14,\n 'make': 15,\n 'see': 16,\n 'really': 17,\n 'scene': 18,\n 'much': 19,\n 'well': 20,\n 'people': 21,\n 'also': 22,\n 'great': 23,\n 'bad': 24,\n 'first': 25,\n 'dont': 26,\n 'way': 27,\n 'show': 28,\n 'thing': 29,\n 'made': 30,\n 'could': 31,\n 'think': 32,\n 'go': 33,\n 'life': 34,\n 'know': 35,\n 'watch': 36,\n 'two': 37,\n 'many': 38,\n 'love': 39,\n 'actor': 40,\n 'seen': 41,\n 'plot': 42,\n 'look': 43,\n 'say': 44,\n 'never': 45,\n 'little': 46,\n 'end': 47,\n 'acting': 48,\n 'year': 49,\n 'best': 50,\n 'doe': 51,\n 'ever': 52,\n 'take': 53,\n 'come': 54,\n 'still': 55,\n 'man': 56,\n 'better': 57,\n 'work': 58,\n 'part': 59,\n 'find': 60,\n 'want': 61,\n 'give': 62,\n 'something': 63,\n 'back': 64,\n 'im': 65,\n 'lot': 66,\n 'director': 67,\n 'performance': 68,\n 'doesnt': 69,\n 'real': 70,\n 'watching': 71,\n 'woman': 72,\n 'though': 73,\n 'didnt': 74,\n 'play': 75,\n 'another': 76,\n 'new': 77,\n 'actually': 78,\n 'nothing': 79,\n 'guy': 80,\n 'role': 81,\n 'u': 82,\n 'old': 83,\n 'funny': 84,\n 'going': 85,\n 'every': 86,\n 'point': 87,\n 'girl': 88,\n 'cast': 89,\n 'thats': 90,\n 'cant': 91,\n 'world': 92,\n 'quite': 93,\n 'fact': 94,\n 'feel': 95,\n 'pretty': 96,\n 'young': 97,\n 'day': 98,\n 'seems': 99,\n 'got': 100,\n 'around': 101,\n 'thought': 102,\n 'minute': 103,\n 'however': 104,\n 'comedy': 105,\n 'horror': 106,\n 'star': 107,\n 'enough': 108,\n 'may': 109,\n 'original': 110,\n 'right': 111,\n 'action': 112,\n 'ive': 113,\n 'big': 114,\n 'family': 115,\n 'bit': 116,\n 'without': 117,\n 'fan': 118,\n 'always': 119,\n 'series': 120,\n 'line': 121,\n 'isnt': 122,\n 'long': 123,\n 'saw': 124,\n 'friend': 125,\n 'set': 126,\n 'almost': 127,\n 'try': 128,\n 'least': 129,\n 'script': 130,\n 'must': 131,\n 'interesting': 132,\n 'whole': 133,\n 'last': 134,\n 'kid': 135,\n 'music': 136,\n 'done': 137,\n 'kind': 138,\n 'anything': 139,\n 'might': 140,\n 'shot': 141,\n 'start': 142,\n 'since': 143,\n 'far': 144,\n 'probably': 145,\n 'reason': 146,\n 'book': 147,\n 'rather': 148,\n 'put': 149,\n 'effect': 150,\n 'place': 151,\n 'worst': 152,\n 'moment': 153,\n 'yet': 154,\n 'away': 155,\n 'tv': 156,\n 'sure': 157,\n 'need': 158,\n 'let': 159,\n 'making': 160,\n 'tell': 161,\n 'idea': 162,\n 'audience': 163,\n 'found': 164,\n 'turn': 165,\n 'fun': 166,\n 'played': 167,\n 'anyone': 168,\n 'episode': 169,\n 'child': 170,\n 'although': 171,\n 'believe': 172,\n 'course': 173,\n 'trying': 174,\n 'especially': 175,\n 'hard': 176,\n 'job': 177,\n 'american': 178,\n 'mean': 179,\n 'someone': 180,\n 'different': 181,\n 'ending': 182,\n 'version': 183,\n 'wasnt': 184,\n 'dvd': 185,\n 'maybe': 186,\n 'problem': 187,\n 'money': 188,\n 'main': 189,\n 'worth': 190,\n 'sense': 191,\n 'everything': 192,\n 'looking': 193,\n 'true': 194,\n 'keep': 195,\n 'screen': 196,\n 'watched': 197,\n 'help': 198,\n '2': 199,\n 'second': 200,\n 'three': 201,\n 'night': 202,\n 'john': 203,\n 'seem': 204,\n 'said': 205,\n 'war': 206,\n 'house': 207,\n 'together': 208,\n 'instead': 209,\n '10': 210,\n 'beautiful': 211,\n 'wife': 212,\n 'later': 213,\n 'everyone': 214,\n 'le': 215,\n 'special': 216,\n 'left': 217,\n 'seeing': 218,\n 'father': 219,\n 'excellent': 220,\n 'boy': 221,\n 'lead': 222,\n 'read': 223,\n 'hour': 224,\n 'viewer': 225,\n 'death': 226,\n 'classic': 227,\n 'black': 228,\n 'simply': 229,\n 'nice': 230,\n 'mind': 231,\n 'youre': 232,\n 'high': 233,\n 'short': 234,\n 'sound': 235,\n 'name': 236,\n 'laugh': 237,\n 'piece': 238,\n 'completely': 239,\n 'eye': 240,\n 'picture': 241,\n 'else': 242,\n 'production': 243,\n 'poor': 244,\n 'face': 245,\n 'song': 246,\n 'home': 247,\n 'used': 248,\n 'given': 249,\n 'hollywood': 250,\n 'human': 251,\n 'men': 252,\n 'rest': 253,\n 'use': 254,\n 'enjoy': 255,\n 'couple': 256,\n 'either': 257,\n 'truly': 258,\n 'kill': 259,\n 'along': 260,\n 'word': 261,\n 'boring': 262,\n 'head': 263,\n 'half': 264,\n 'wrong': 265,\n 'dead': 266,\n 'hope': 267,\n 'camera': 268,\n 'hand': 269,\n 'video': 270,\n 'remember': 271,\n 'came': 272,\n 'next': 273,\n 'recommend': 274,\n 'perhaps': 275,\n 'mr': 276,\n 'full': 277,\n 'case': 278,\n 'person': 279,\n 'sort': 280,\n 'understand': 281,\n 'wonderful': 282,\n 'attempt': 283,\n 'stupid': 284,\n 'killer': 285,\n 'getting': 286,\n 'others': 287,\n 'dialogue': 288,\n 'run': 289,\n 'fall': 290,\n 'school': 291,\n 'title': 292,\n 'playing': 293,\n 'awful': 294,\n 'brother': 295,\n 'terrible': 296,\n 'sex': 297,\n 'small': 298,\n 'act': 299,\n 'definitely': 300,\n 'often': 301,\n 'care': 302,\n 'sequence': 303,\n 'early': 304,\n 'top': 305,\n 'become': 306,\n 'perfect': 307,\n 'game': 308,\n 'style': 309,\n 'finally': 310,\n 'review': 311,\n 'felt': 312,\n 'example': 313,\n 'supposed': 314,\n 'mother': 315,\n 'feeling': 316,\n 'joke': 317,\n 'couldnt': 318,\n 'liked': 319,\n 'waste': 320,\n 'budget': 321,\n 'flick': 322,\n 'actress': 323,\n 'lost': 324,\n 'absolutely': 325,\n 'yes': 326,\n 'entire': 327,\n 'went': 328,\n 'cinema': 329,\n 'writer': 330,\n 'certainly': 331,\n 'written': 332,\n 'live': 333,\n 'shes': 334,\n 'car': 335,\n 'art': 336,\n 'begin': 337,\n 'quality': 338,\n 'evil': 339,\n 'white': 340,\n 'overall': 341,\n 'lack': 342,\n 'several': 343,\n 'son': 344,\n 'loved': 345,\n 'drama': 346,\n 'direction': 347,\n 'comment': 348,\n 'id': 349,\n 'favorite': 350,\n 'worse': 351,\n 'beginning': 352,\n '3': 353,\n 'fight': 354,\n 'becomes': 355,\n 'entertaining': 356,\n 'feature': 357,\n 'seemed': 358,\n 'murder': 359,\n 'based': 360,\n 'already': 361,\n 'despite': 362,\n 'oh': 363,\n 'number': 364,\n 'wanted': 365,\n 'dark': 366,\n 'unfortunately': 367,\n 'throughout': 368,\n 'side': 369,\n 'final': 370,\n 'michael': 371,\n 'meet': 372,\n '1': 373,\n 'change': 374,\n 'totally': 375,\n 'fine': 376,\n 'wont': 377,\n 'relationship': 378,\n 'matter': 379,\n 'writing': 380,\n 'amazing': 381,\n 'low': 382,\n 'guess': 383,\n 'youll': 384,\n 'heart': 385,\n 'humor': 386,\n 'hero': 387,\n 'called': 388,\n 'history': 389,\n 'town': 390,\n 'age': 391,\n 'past': 392,\n 'genre': 393,\n 'able': 394,\n 'enjoyed': 395,\n 'theyre': 396,\n 'daughter': 397,\n 'behind': 398,\n 'event': 399,\n 'today': 400,\n 'type': 401,\n 'move': 402,\n 'voice': 403,\n 'gave': 404,\n 'city': 405,\n 'hit': 406,\n 'sometimes': 407,\n 'experience': 408,\n 'theme': 409,\n 'zombie': 410,\n 'power': 411,\n 'cut': 412,\n 'horrible': 413,\n 'call': 414,\n 'chance': 415,\n 'soon': 416,\n 'save': 417,\n 'expect': 418,\n 'obviously': 419,\n 'element': 420,\n 'wonder': 421,\n 'credit': 422,\n 'god': 423,\n 'talent': 424,\n 'directed': 425,\n 'thinking': 426,\n 'ill': 427,\n 'brilliant': 428,\n 'add': 429,\n 'close': 430,\n 'body': 431,\n 'decent': 432,\n 'musical': 433,\n 'highly': 434,\n 'question': 435,\n 'stuff': 436,\n 'stop': 437,\n 'group': 438,\n 'blood': 439,\n 'lady': 440,\n 'late': 441,\n 'situation': 442,\n 'level': 443,\n 'took': 444,\n 'wish': 445,\n 'except': 446,\n 'cannot': 447,\n 'novel': 448,\n 'heard': 449,\n 'stand': 450,\n 'leave': 451,\n 'hell': 452,\n 'score': 453,\n 'killed': 454,\n 'robert': 455,\n 'police': 456,\n 'wouldnt': 457,\n 'extremely': 458,\n 'view': 459,\n 'strong': 460,\n 'interest': 461,\n 'happens': 462,\n 'particularly': 463,\n 'james': 464,\n 'career': 465,\n 'involved': 466,\n 'obvious': 467,\n 'happened': 468,\n 'order': 469,\n 'husband': 470,\n 'told': 471,\n 'talk': 472,\n 'living': 473,\n 'rating': 474,\n 'violence': 475,\n 'light': 476,\n 'etc': 477,\n 'theater': 478,\n 'including': 479,\n 'country': 480,\n 'complete': 481,\n 'documentary': 482,\n 'dream': 483,\n 'coming': 484,\n 'king': 485,\n 'david': 486,\n 'anyway': 487,\n 'twist': 488,\n 'looked': 489,\n 'please': 490,\n 'opinion': 491,\n 'effort': 492,\n 'itbr': 493,\n 'female': 494,\n 'alone': 495,\n 'filmmaker': 496,\n 'none': 497,\n 'simple': 498,\n 'exactly': 499,\n 'slow': 500,\n 'reality': 501,\n 'sequel': 502,\n 'ok': 503,\n 'happen': 504,\n 'shown': 505,\n 'ago': 506,\n 'whose': 507,\n 'room': 508,\n 'taken': 509,\n 'usually': 510,\n 'sister': 511,\n 'serious': 512,\n 'season': 513,\n 'across': 514,\n 'cinematography': 515,\n 'opening': 516,\n 'somewhat': 517,\n 'running': 518,\n 'annoying': 519,\n 'sad': 520,\n 'deal': 521,\n 'known': 522,\n 'miss': 523,\n 'stay': 524,\n 'usual': 525,\n 'comic': 526,\n 'possible': 527,\n 'value': 528,\n 'gore': 529,\n 'released': 530,\n 'started': 531,\n 'local': 532,\n 'rock': 533,\n 'huge': 534,\n 'major': 535,\n 'seriously': 536,\n 'crap': 537,\n 'scary': 538,\n 'saying': 539,\n 'message': 540,\n 'mostly': 541,\n 'ridiculous': 542,\n 'english': 543,\n 'taking': 544,\n 'hilarious': 545,\n 'cool': 546,\n 'figure': 547,\n '4': 548,\n 'talking': 549,\n 'street': 550,\n 'return': 551,\n 'tale': 552,\n 'due': 553,\n 'george': 554,\n 'apparently': 555,\n 'strange': 556,\n '5': 557,\n 'thriller': 558,\n 'basically': 559,\n 'important': 560,\n 'single': 561,\n 'supporting': 562,\n 'jack': 563,\n 'clearly': 564,\n 'knew': 565,\n 'happy': 566,\n 'attention': 567,\n 'mention': 568,\n 'turned': 569,\n 'oscar': 570,\n 'arent': 571,\n 'dialog': 572,\n 'surprise': 573,\n 'british': 574,\n 'easily': 575,\n 'monster': 576,\n 'mystery': 577,\n 'result': 578,\n 'paul': 579,\n 'open': 580,\n 'bring': 581,\n 'moviebr': 582,\n 'television': 583,\n 'whats': 584,\n 'hate': 585,\n 'modern': 586,\n 'cop': 587,\n 'cheap': 588,\n 'future': 589,\n 'silly': 590,\n 'beyond': 591,\n 'member': 592,\n 'adult': 593,\n 'whether': 594,\n 'disappointed': 595,\n 'four': 596,\n 'earth': 597,\n 'peter': 598,\n 'five': 599,\n 'parent': 600,\n 'dog': 601,\n 'animation': 602,\n 'romantic': 603,\n 'producer': 604,\n 'similar': 605,\n 'class': 606,\n 'form': 607,\n 'villain': 608,\n 'team': 609,\n 'entertainment': 610,\n 'aspect': 611,\n 'hold': 612,\n 'appears': 613,\n 'giving': 614,\n 'upon': 615,\n 'release': 616,\n 'richard': 617,\n 'predictable': 618,\n 'doubt': 619,\n 'image': 620,\n 'storyline': 621,\n 'state': 622,\n 'break': 623,\n 'crime': 624,\n 'havent': 625,\n 'within': 626,\n '80': 627,\n 'spoiler': 628,\n 'nearly': 629,\n 'bunch': 630,\n 'buy': 631,\n 'viewing': 632,\n 'enjoyable': 633,\n 'ten': 634,\n 'filmbr': 635,\n 'killing': 636,\n 'dance': 637,\n 'actual': 638,\n 'york': 639,\n 'using': 640,\n 'moving': 641,\n 'middle': 642,\n 'lee': 643,\n 'subject': 644,\n 'present': 645,\n 'surprised': 646,\n 'named': 647,\n 'gun': 648,\n 'note': 649,\n 'showing': 650,\n 'dull': 651,\n 'among': 652,\n 'setting': 653,\n 'fantastic': 654,\n 'typical': 655,\n 'easy': 656,\n 'general': 657,\n 'working': 658,\n 'certain': 659,\n 'clear': 660,\n 'tom': 661,\n 'tried': 662,\n 'red': 663,\n 'standard': 664,\n 'de': 665,\n 'near': 666,\n 'victim': 667,\n 'straight': 668,\n 'avoid': 669,\n 'soundtrack': 670,\n 'material': 671,\n 'french': 672,\n 'famous': 673,\n 'check': 674,\n 'emotion': 675,\n 'period': 676,\n 'somehow': 677,\n 'sorry': 678,\n 'soldier': 679,\n 'kept': 680,\n 'greatest': 681,\n 'stage': 682,\n 'editing': 683,\n 'brought': 684,\n 'weak': 685,\n 'filmed': 686,\n 'force': 687,\n 'battle': 688,\n 'disney': 689,\n 'baby': 690,\n 'premise': 691,\n 'detail': 692,\n 'particular': 693,\n 'mark': 694,\n 'wait': 695,\n 'hear': 696,\n 'gone': 697,\n 'space': 698,\n 'student': 699,\n 'animal': 700,\n 'western': 701,\n 'third': 702,\n 'cartoon': 703,\n 'learn': 704,\n 'realistic': 705,\n 'imagine': 706,\n 'atmosphere': 707,\n 'youve': 708,\n 'truth': 709,\n 'eventually': 710,\n 'fast': 711,\n 'screenplay': 712,\n 'romance': 713,\n 'america': 714,\n 'offer': 715,\n 'decided': 716,\n 'walk': 717,\n 'forget': 718,\n 'possibly': 719,\n 'nature': 720,\n 'rent': 721,\n 'lame': 722,\n 'fit': 723,\n 'follow': 724,\n 'became': 725,\n 'leaf': 726,\n 'background': 727,\n 'indeed': 728,\n 'japanese': 729,\n 'sit': 730,\n 'difficult': 731,\n 'secret': 732,\n 'male': 733,\n 'poorly': 734,\n 'remake': 735,\n 'expected': 736,\n 'sexual': 737,\n 'die': 738,\n 'cause': 739,\n 'whatever': 740,\n 'average': 741,\n 'reading': 742,\n 'pay': 743,\n 'escape': 744,\n '70': 745,\n 'issue': 746,\n 'suspense': 747,\n 'okay': 748,\n 'society': 749,\n 'focus': 750,\n 'studio': 751,\n 'believable': 752,\n 'choice': 753,\n 'needed': 754,\n 'match': 755,\n 'dr': 756,\n 'doctor': 757,\n 'beauty': 758,\n 'joe': 759,\n 'touch': 760,\n 'accent': 761,\n 'copy': 762,\n 'drug': 763,\n 'bill': 764,\n 'forced': 765,\n 'realize': 766,\n 'emotional': 767,\n 'otherwise': 768,\n 'fantasy': 769,\n 'shame': 770,\n 'masterpiece': 771,\n 'memorable': 772,\n 'development': 773,\n 'la': 774,\n 'unless': 775,\n '20': 776,\n 'superb': 777,\n 'b': 778,\n 'older': 779,\n 'write': 780,\n 'earlier': 781,\n 'weird': 782,\n 'crazy': 783,\n 'interested': 784,\n 'footage': 785,\n 'vampire': 786,\n 'adventure': 787,\n 'wood': 788,\n 'cover': 789,\n 'ghost': 790,\n 'dramatic': 791,\n 'fear': 792,\n 'towards': 793,\n 'badly': 794,\n 'ask': 795,\n 'win': 796,\n 'total': 797,\n 'previous': 798,\n 'hot': 799,\n 'brings': 800,\n 'lover': 801,\n 'cry': 802,\n 'plus': 803,\n 'personal': 804,\n 'plenty': 805,\n 'free': 806,\n 'incredibly': 807,\n 'worked': 808,\n 'spirit': 809,\n 'fire': 810,\n 'directing': 811,\n 'cheesy': 812,\n 'quickly': 813,\n 'perfectly': 814,\n 'admit': 815,\n 'deep': 816,\n 'award': 817,\n 'unique': 818,\n 'mess': 819,\n 'plan': 820,\n 'water': 821,\n 'creepy': 822,\n 'girlfriend': 823,\n 'appear': 824,\n 'leading': 825,\n 'costume': 826,\n 'hardly': 827,\n 'gay': 828,\n 'week': 829,\n 'meant': 830,\n 'casting': 831,\n 'cat': 832,\n 'imdb': 833,\n 'forward': 834,\n 'apart': 835,\n 'ben': 836,\n 'christmas': 837,\n '30': 838,\n 'various': 839,\n 'party': 840,\n 'rate': 841,\n 'business': 842,\n 'create': 843,\n 'potential': 844,\n 'band': 845,\n 'inside': 846,\n 'scifi': 847,\n 'box': 848,\n 'project': 849,\n 'powerful': 850,\n 'mistake': 851,\n 'rich': 852,\n 'portrayed': 853,\n 'pick': 854,\n 'front': 855,\n 'trouble': 856,\n 'outside': 857,\n 'air': 858,\n 'success': 859,\n 'fairly': 860,\n '90': 861,\n 'manages': 862,\n 'expecting': 863,\n 'color': 864,\n 'deserves': 865,\n 'amount': 866,\n 'jane': 867,\n 'fails': 868,\n 'missing': 869,\n 'political': 870,\n 'term': 871,\n 'german': 872,\n 'appearance': 873,\n 'location': 874,\n 'dumb': 875,\n 'attack': 876,\n 'fighting': 877,\n 'unlike': 878,\n 'plain': 879,\n 'scott': 880,\n 'company': 881,\n 'william': 882,\n 'recently': 883,\n 'nudity': 884,\n 'crew': 885,\n 'portrayal': 886,\n 'married': 887,\n 'agree': 888,\n 'sadly': 889,\n 'telling': 890,\n 'concept': 891,\n 'acted': 892,\n 'talented': 893,\n 'cute': 894,\n 'chase': 895,\n 'pure': 896,\n 'island': 897,\n 'stick': 898,\n 'public': 899,\n 'incredible': 900,\n 'missed': 901,\n 'us': 902,\n 'tension': 903,\n 'memory': 904,\n 'throw': 905,\n 'sweet': 906,\n 'era': 907,\n 'odd': 908,\n 'player': 909,\n 'ability': 910,\n 'mary': 911,\n 'list': 912,\n 'flat': 913,\n 'following': 914,\n 'store': 915,\n 'caught': 916,\n 'social': 917,\n 'large': 918,\n 'decides': 919,\n 'office': 920,\n 'basic': 921,\n 'pace': 922,\n 'considering': 923,\n 'waiting': 924,\n 'mentioned': 925,\n 'alien': 926,\n 'catch': 927,\n 'popular': 928,\n 'ended': 929,\n 'master': 930,\n 'positive': 931,\n 'slightly': 932,\n 'shoot': 933,\n 'depth': 934,\n 'suddenly': 935,\n 'wasted': 936,\n 'compared': 937,\n 'neither': 938,\n 'spent': 939,\n 'wrote': 940,\n 'entirely': 941,\n 'language': 942,\n 'tone': 943,\n 'familiar': 944,\n 'intelligent': 945,\n 'created': 946,\n 'italian': 947,\n 'adaptation': 948,\n 'answer': 949,\n 'respect': 950,\n 'creature': 951,\n 'ultimately': 952,\n 'convincing': 953,\n 'century': 954,\n 'clever': 955,\n 'bored': 956,\n 'visual': 957,\n 'planet': 958,\n 'pull': 959,\n 'control': 960,\n 'door': 961,\n 'brain': 962,\n 'biggest': 963,\n 'soul': 964,\n 'revenge': 965,\n 'consider': 966,\n 'laughing': 967,\n 'successful': 968,\n 'recent': 969,\n 'indian': 970,\n 'drive': 971,\n 'computer': 972,\n 'science': 973,\n 'extra': 974,\n 'critic': 975,\n 'spend': 976,\n 'million': 977,\n 'violent': 978,\n 'channel': 979,\n 'slasher': 980,\n 'dancing': 981,\n '12': 982,\n 'appreciate': 983,\n 'former': 984,\n 'maker': 985,\n 'reviewer': 986,\n 'died': 987,\n 'cold': 988,\n 'speak': 989,\n 'filled': 990,\n 'taste': 991,\n 'singing': 992,\n 'younger': 993,\n 'produced': 994,\n 'culture': 995,\n 'detective': 996,\n 'solid': 997,\n 'shooting': 998,\n 'capture': 999,\n '8': 1000,\n ...}"
          },
          "metadata": {}
        }
      ]
    },
    {
      "metadata": {
        "trusted": true,
        "_uuid": "d2def531e3aef9eed2f6458ee06e246bd8b8662b"
      },
      "cell_type": "code",
      "source": "index2word={j:i for i,j in tokenizer.word_index.items()}",
      "execution_count": 25,
      "outputs": []
    },
    {
      "metadata": {
        "trusted": true,
        "scrolled": false,
        "_uuid": "e7ba4d78c300f08ee715a2fc4c2bb4bab54ba0dc"
      },
      "cell_type": "code",
      "source": "\" \".join([index2word.get(w) for w in list_tokenized_train[0]])",
      "execution_count": 26,
      "outputs": [
        {
          "output_type": "execute_result",
          "execution_count": 26,
          "data": {
            "text/plain": "'stuff going moment ive started listening music watching odd documentary watched watched maybe want get certain insight guy thought wa really cool eighty maybe make mind whether guilty innocent part biography part feature film remember going see cinema wa originally released ha subtle message feeling towards press also obvious message drug bad br visually impressive course michael jackson unless remotely like anyway going hate find boring may call making movie fan would say made fan true really nice himbr br actual feature film bit finally start 20 minute smooth criminal sequence joe convincing powerful drug lord want dead bad beyond plan joe character wanted people know drug etc maybe hate musicbr br lot cool thing like turning car robot whole speed demon sequence also director must patience saint came filming bad sequence usually director hate working one kid let alone whole bunch performing complex dance scenebr br bottom line movie people like one level another think people stay away doe try give wholesome message ironically buddy movie girl michael jackson truly one talented people ever grace planet guilty well attention ive gave well dont know people different behind closed door know fact either extremely nice stupid guy one liar hope latter'"
          },
          "metadata": {}
        }
      ]
    },
    {
      "metadata": {
        "trusted": true,
        "_uuid": "2cc9faf95b77a2e8a104ace8e68d1ac005faf247"
      },
      "cell_type": "code",
      "source": "maxlen=150\nX_t=pad_sequences(list_tokenized_train,maxlen=maxlen)",
      "execution_count": 27,
      "outputs": []
    },
    {
      "metadata": {
        "trusted": true,
        "_uuid": "fb3c08992678972da583b0d6e13888a59da0f746"
      },
      "cell_type": "code",
      "source": "y=df.sentiment",
      "execution_count": 28,
      "outputs": []
    },
    {
      "metadata": {
        "trusted": true,
        "scrolled": true,
        "_uuid": "85e8b29807c053fc8380f55da5732d7750fb17c6"
      },
      "cell_type": "code",
      "source": "X_t[5]  #so padding is \"pre\" and truncating is also 'pre' i.e is in the starting",
      "execution_count": 29,
      "outputs": [
        {
          "output_type": "execute_result",
          "execution_count": 29,
          "data": {
            "text/plain": "array([   0,    0,    0,    0,    0,    0,    0,    0,    0,    0,    0,\n          0,    0,    0,    0,    0,    0,    0,    0,    0,    0,    0,\n          0,    0,    0,    0,    0,    0,    0,    0,    0,    0,    0,\n          0,    0,    0,    0,    0,    0,    0,    0,    0,    0,    0,\n          0,    0,    0,    0,    0,    0,    0,    0,    0,    0,    0,\n          0,    0,    0,    0,    0,    0,    0,    0,    0,    0,    0,\n          0,    0,    0,    0,    0,    0,    0,    0,    0,    0,    0,\n          0,    0,    0,    0,    0,    0,    0,    0,    0,    0,    0,\n          0,    0,    0,    0,    0,    0,    0,    0,    0,    0,    0,\n          0,    0,    0,    0,    0,    0,    0,   26,   35,   21,   32,\n         24,    2,  100,   96,    9,   42,    9,  112,  374,  874, 1159,\n         51, 1061,  257,  157, 2206, 1948,    2,    6, 3914,    9,  607,\n       1467, 1159,  319, 2924,    2,  298,  390,  587,  319, 1467, 1159,\n         16,    5,   66,   57,  266, 2843, 3219], dtype=int32)"
          },
          "metadata": {}
        }
      ]
    },
    {
      "metadata": {
        "trusted": true,
        "_uuid": "28a6a1726b2657e8db20c4f1c3c32233f9cb437c"
      },
      "cell_type": "code",
      "source": "embed_size=128\nmodel=Sequential()\nmodel.add(Embedding(max_features,embed_size))\nmodel.add(Bidirectional(LSTM(32,return_sequences=True)))\nmodel.add(GlobalMaxPooling1D())\nmodel.add(Dense(20,activation='relu'))\nmodel.add(Dropout(0.25))\nmodel.add(Dense(1,activation='sigmoid'))\nmodel.compile(loss='binary_crossentropy',optimizer='adam',metrics=['accuracy'])\n\nbatchsize=100\nepochs=3\nmodel.fit(X_t,y,batch_size=batchsize,epochs=epochs,validation_split=0.2)",
      "execution_count": 30,
      "outputs": [
        {
          "output_type": "stream",
          "text": "Train on 20000 samples, validate on 5000 samples\nEpoch 1/3\n20000/20000 [==============================] - 99s 5ms/step - loss: 0.4587 - acc: 0.7866 - val_loss: 0.3093 - val_acc: 0.8680\nEpoch 2/3\n20000/20000 [==============================] - 95s 5ms/step - loss: 0.2316 - acc: 0.9154 - val_loss: 0.3008 - val_acc: 0.8762\nEpoch 3/3\n20000/20000 [==============================] - 96s 5ms/step - loss: 0.1581 - acc: 0.9468 - val_loss: 0.3278 - val_acc: 0.8704\n",
          "name": "stdout"
        },
        {
          "output_type": "execute_result",
          "execution_count": 30,
          "data": {
            "text/plain": "<keras.callbacks.History at 0x7f0a6a3ab668>"
          },
          "metadata": {}
        }
      ]
    },
    {
      "metadata": {
        "trusted": true,
        "_uuid": "17105b71bdc13f905c83761021f915a0a76e50f1"
      },
      "cell_type": "code",
      "source": "test_df=pd.read_csv('../input/testData.tsv',sep='\\t')",
      "execution_count": 31,
      "outputs": []
    },
    {
      "metadata": {
        "trusted": true,
        "_uuid": "458667da36b2cf646e750ddfa1225102a5471fde"
      },
      "cell_type": "code",
      "source": "test_df.head()",
      "execution_count": 33,
      "outputs": [
        {
          "output_type": "execute_result",
          "execution_count": 33,
          "data": {
            "text/plain": "         id                                             review\n0  12311_10  Naturally in a film who's main themes are of m...\n1    8348_2  This movie is a disaster within a disaster fil...\n2    5828_4  All in all, this is a movie for kids. We saw i...\n3    7186_2  Afraid of the Dark left me with the impression...\n4   12128_7  A very accurate depiction of small time mob li...",
            "text/html": "<div>\n<style scoped>\n    .dataframe tbody tr th:only-of-type {\n        vertical-align: middle;\n    }\n\n    .dataframe tbody tr th {\n        vertical-align: top;\n    }\n\n    .dataframe thead th {\n        text-align: right;\n    }\n</style>\n<table border=\"1\" class=\"dataframe\">\n  <thead>\n    <tr style=\"text-align: right;\">\n      <th></th>\n      <th>id</th>\n      <th>review</th>\n    </tr>\n  </thead>\n  <tbody>\n    <tr>\n      <th>0</th>\n      <td>12311_10</td>\n      <td>Naturally in a film who's main themes are of m...</td>\n    </tr>\n    <tr>\n      <th>1</th>\n      <td>8348_2</td>\n      <td>This movie is a disaster within a disaster fil...</td>\n    </tr>\n    <tr>\n      <th>2</th>\n      <td>5828_4</td>\n      <td>All in all, this is a movie for kids. We saw i...</td>\n    </tr>\n    <tr>\n      <th>3</th>\n      <td>7186_2</td>\n      <td>Afraid of the Dark left me with the impression...</td>\n    </tr>\n    <tr>\n      <th>4</th>\n      <td>12128_7</td>\n      <td>A very accurate depiction of small time mob li...</td>\n    </tr>\n  </tbody>\n</table>\n</div>"
          },
          "metadata": {}
        }
      ]
    },
    {
      "metadata": {
        "trusted": true,
        "_uuid": "7e882218ae3d8341afd89c87f46a80f945572e14"
      },
      "cell_type": "code",
      "source": "test_df['processed_review']=test_df.review.apply(lambda x:clean_text(x))",
      "execution_count": 34,
      "outputs": []
    },
    {
      "metadata": {
        "trusted": true,
        "_uuid": "2a706fa73f53dcfa0b2334ddcaeb1d68a6d715e7"
      },
      "cell_type": "code",
      "source": "test_df.head()",
      "execution_count": 35,
      "outputs": [
        {
          "output_type": "execute_result",
          "execution_count": 35,
          "data": {
            "text/plain": "         id                        ...                                                           processed_review\n0  12311_10                        ...                          naturally film main theme mortality nostalgia ...\n1    8348_2                        ...                          movie disaster within disaster film full great...\n2    5828_4                        ...                          movie kid saw tonight child loved one point ki...\n3    7186_2                        ...                          afraid dark left impression several different ...\n4   12128_7                        ...                          accurate depiction small time mob life filmed ...\n\n[5 rows x 3 columns]",
            "text/html": "<div>\n<style scoped>\n    .dataframe tbody tr th:only-of-type {\n        vertical-align: middle;\n    }\n\n    .dataframe tbody tr th {\n        vertical-align: top;\n    }\n\n    .dataframe thead th {\n        text-align: right;\n    }\n</style>\n<table border=\"1\" class=\"dataframe\">\n  <thead>\n    <tr style=\"text-align: right;\">\n      <th></th>\n      <th>id</th>\n      <th>review</th>\n      <th>processed_review</th>\n    </tr>\n  </thead>\n  <tbody>\n    <tr>\n      <th>0</th>\n      <td>12311_10</td>\n      <td>Naturally in a film who's main themes are of m...</td>\n      <td>naturally film main theme mortality nostalgia ...</td>\n    </tr>\n    <tr>\n      <th>1</th>\n      <td>8348_2</td>\n      <td>This movie is a disaster within a disaster fil...</td>\n      <td>movie disaster within disaster film full great...</td>\n    </tr>\n    <tr>\n      <th>2</th>\n      <td>5828_4</td>\n      <td>All in all, this is a movie for kids. We saw i...</td>\n      <td>movie kid saw tonight child loved one point ki...</td>\n    </tr>\n    <tr>\n      <th>3</th>\n      <td>7186_2</td>\n      <td>Afraid of the Dark left me with the impression...</td>\n      <td>afraid dark left impression several different ...</td>\n    </tr>\n    <tr>\n      <th>4</th>\n      <td>12128_7</td>\n      <td>A very accurate depiction of small time mob li...</td>\n      <td>accurate depiction small time mob life filmed ...</td>\n    </tr>\n  </tbody>\n</table>\n</div>"
          },
          "metadata": {}
        }
      ]
    },
    {
      "metadata": {
        "trusted": true,
        "_uuid": "bcc57adbf30a5dc59f02b5fdbc5b0ab48cbb5283"
      },
      "cell_type": "code",
      "source": "list_tokenized_test=tokenizer.texts_to_sequences(test_df.processed_review)",
      "execution_count": 36,
      "outputs": []
    },
    {
      "metadata": {
        "trusted": true,
        "_uuid": "fa0e473ad66163397865fbfd0530314e6084bc77"
      },
      "cell_type": "code",
      "source": "len(list_tokenized_test[0])",
      "execution_count": 40,
      "outputs": [
        {
          "output_type": "execute_result",
          "execution_count": 40,
          "data": {
            "text/plain": "65"
          },
          "metadata": {}
        }
      ]
    },
    {
      "metadata": {
        "trusted": true,
        "_uuid": "1576f6b458bc55822fb144ae2ab7de4b3c644922"
      },
      "cell_type": "code",
      "source": "X_test=pad_sequences(list_tokenized_test,maxlen=maxlen)",
      "execution_count": 41,
      "outputs": []
    },
    {
      "metadata": {
        "trusted": true,
        "_uuid": "49998a66d5021fde53f522be3ed4c3d06751527b"
      },
      "cell_type": "code",
      "source": "X_test[0]",
      "execution_count": 43,
      "outputs": [
        {
          "output_type": "execute_result",
          "execution_count": 43,
          "data": {
            "text/plain": "array([   0,    0,    0,    0,    0,    0,    0,    0,    0,    0,    0,\n          0,    0,    0,    0,    0,    0,    0,    0,    0,    0,    0,\n          0,    0,    0,    0,    0,    0,    0,    0,    0,    0,    0,\n          0,    0,    0,    0,    0,    0,    0,    0,    0,    0,    0,\n          0,    0,    0,    0,    0,    0,    0,    0,    0,    0,    0,\n          0,    0,    0,    0,    0,    0,    0,    0,    0,    0,    0,\n          0,    0,    0,    0,    0,    0,    0,    0,    0,    0,    0,\n          0,    0,    0,    0,    0,    0,    0,    0, 1769,    4,  189,\n        409, 4262, 1616, 2860,  275, 1585, 1275,  434,  779,  225,  993,\n          5,  104,    4,  168,  255,  922, 5068, 1608,   10,  277, 1582,\n        378, 2515, 1095,  650,  158, 1203,   28,  675, 1291,   28,  792,\n       5190,   28,  475,   28, 2211, 1769,  234,   11, 6361,    4, 1460,\n         30, 2128,  307, 4475, 2884,  298,  374, 5466,   15, 6247, 4139,\n        723, 5511,  258,  771, 3077, 3719,  758], dtype=int32)"
          },
          "metadata": {}
        }
      ]
    },
    {
      "metadata": {
        "trusted": true,
        "_uuid": "3afd4d8daa38bd2cf684039cb666a2fdf72c5c22"
      },
      "cell_type": "code",
      "source": "test_predict=model.predict(X_test)",
      "execution_count": 44,
      "outputs": []
    },
    {
      "metadata": {
        "trusted": true,
        "_uuid": "3cbb6e1dcb995a2c93a5bf8609c6548b30324da6"
      },
      "cell_type": "code",
      "source": "test_predict",
      "execution_count": 45,
      "outputs": [
        {
          "output_type": "execute_result",
          "execution_count": 45,
          "data": {
            "text/plain": "array([[0.99430346],\n       [0.0038621 ],\n       [0.02037188],\n       ...,\n       [0.8820067 ],\n       [0.9892207 ],\n       [0.42154473]], dtype=float32)"
          },
          "metadata": {}
        }
      ]
    },
    {
      "metadata": {
        "trusted": true,
        "_uuid": "c3f55952415b02005e4fb1baeadb05f544b9292c"
      },
      "cell_type": "code",
      "source": "y_pred=(test_predict>0.5)*1",
      "execution_count": 49,
      "outputs": []
    },
    {
      "metadata": {
        "trusted": true,
        "_uuid": "17f17dcea1f9646106ec0f62fbb3b2b2470a0410"
      },
      "cell_type": "code",
      "source": "y_pred=np.squeeze(y_pred)",
      "execution_count": 54,
      "outputs": []
    },
    {
      "metadata": {
        "trusted": true,
        "_uuid": "df71f817937b062349277d837dd065bcb185cb45"
      },
      "cell_type": "code",
      "source": "y_pred.shape",
      "execution_count": 56,
      "outputs": [
        {
          "output_type": "execute_result",
          "execution_count": 56,
          "data": {
            "text/plain": "(25000,)"
          },
          "metadata": {}
        }
      ]
    },
    {
      "metadata": {
        "trusted": true,
        "_uuid": "840ee413b541bcb19ea0660bdaf9951e09acea3d"
      },
      "cell_type": "code",
      "source": "output=pd.DataFrame({'id':test_df['id'],'sentiment':y_pred})",
      "execution_count": 57,
      "outputs": []
    },
    {
      "metadata": {
        "trusted": true,
        "_uuid": "d90aa57572d17ab9eb8a39ddedaaf0b78c033c2c"
      },
      "cell_type": "code",
      "source": "output",
      "execution_count": 58,
      "outputs": [
        {
          "output_type": "execute_result",
          "execution_count": 58,
          "data": {
            "text/plain": "             id  sentiment\n0      12311_10          1\n1        8348_2          0\n2        5828_4          0\n3        7186_2          0\n4       12128_7          1\n5        2913_8          0\n6        4396_1          0\n7         395_2          1\n8       10616_1          0\n9        9074_9          0\n10       9252_3          0\n11       9896_9          0\n12        574_4          0\n13      11182_8          0\n14      11656_4          1\n15       2322_4          0\n16       8703_1          1\n17       7483_1          1\n18      6007_10          1\n19      12424_4          0\n20       4672_1          0\n21      10841_3          0\n22       8954_7          1\n23       7392_1          0\n24      10288_8          1\n25       5343_4          0\n26       4950_1          0\n27       9257_4          0\n28       8689_3          0\n29       4480_2          0\n...         ...        ...\n24970   6857_10          1\n24971   11091_8          1\n24972    4167_2          0\n24973     679_4          0\n24974   10147_1          0\n24975    6875_1          0\n24976    923_10          1\n24977    6200_8          0\n24978    7208_8          1\n24979    5363_8          1\n24980    4067_8          0\n24981    1773_7          1\n24982   1498_10          1\n24983  10497_10          0\n24984   3444_10          1\n24985     588_2          0\n24986    9678_9          0\n24987    1983_9          0\n24988    5012_3          0\n24989   12240_2          1\n24990    5071_2          0\n24991    5078_2          0\n24992   10069_3          0\n24993    7407_8          0\n24994    7207_1          0\n24995   2155_10          1\n24996     59_10          1\n24997    2531_1          1\n24998    7772_8          1\n24999  11465_10          0\n\n[25000 rows x 2 columns]",
            "text/html": "<div>\n<style scoped>\n    .dataframe tbody tr th:only-of-type {\n        vertical-align: middle;\n    }\n\n    .dataframe tbody tr th {\n        vertical-align: top;\n    }\n\n    .dataframe thead th {\n        text-align: right;\n    }\n</style>\n<table border=\"1\" class=\"dataframe\">\n  <thead>\n    <tr style=\"text-align: right;\">\n      <th></th>\n      <th>id</th>\n      <th>sentiment</th>\n    </tr>\n  </thead>\n  <tbody>\n    <tr>\n      <th>0</th>\n      <td>12311_10</td>\n      <td>1</td>\n    </tr>\n    <tr>\n      <th>1</th>\n      <td>8348_2</td>\n      <td>0</td>\n    </tr>\n    <tr>\n      <th>2</th>\n      <td>5828_4</td>\n      <td>0</td>\n    </tr>\n    <tr>\n      <th>3</th>\n      <td>7186_2</td>\n      <td>0</td>\n    </tr>\n    <tr>\n      <th>4</th>\n      <td>12128_7</td>\n      <td>1</td>\n    </tr>\n    <tr>\n      <th>5</th>\n      <td>2913_8</td>\n      <td>0</td>\n    </tr>\n    <tr>\n      <th>6</th>\n      <td>4396_1</td>\n      <td>0</td>\n    </tr>\n    <tr>\n      <th>7</th>\n      <td>395_2</td>\n      <td>1</td>\n    </tr>\n    <tr>\n      <th>8</th>\n      <td>10616_1</td>\n      <td>0</td>\n    </tr>\n    <tr>\n      <th>9</th>\n      <td>9074_9</td>\n      <td>0</td>\n    </tr>\n    <tr>\n      <th>10</th>\n      <td>9252_3</td>\n      <td>0</td>\n    </tr>\n    <tr>\n      <th>11</th>\n      <td>9896_9</td>\n      <td>0</td>\n    </tr>\n    <tr>\n      <th>12</th>\n      <td>574_4</td>\n      <td>0</td>\n    </tr>\n    <tr>\n      <th>13</th>\n      <td>11182_8</td>\n      <td>0</td>\n    </tr>\n    <tr>\n      <th>14</th>\n      <td>11656_4</td>\n      <td>1</td>\n    </tr>\n    <tr>\n      <th>15</th>\n      <td>2322_4</td>\n      <td>0</td>\n    </tr>\n    <tr>\n      <th>16</th>\n      <td>8703_1</td>\n      <td>1</td>\n    </tr>\n    <tr>\n      <th>17</th>\n      <td>7483_1</td>\n      <td>1</td>\n    </tr>\n    <tr>\n      <th>18</th>\n      <td>6007_10</td>\n      <td>1</td>\n    </tr>\n    <tr>\n      <th>19</th>\n      <td>12424_4</td>\n      <td>0</td>\n    </tr>\n    <tr>\n      <th>20</th>\n      <td>4672_1</td>\n      <td>0</td>\n    </tr>\n    <tr>\n      <th>21</th>\n      <td>10841_3</td>\n      <td>0</td>\n    </tr>\n    <tr>\n      <th>22</th>\n      <td>8954_7</td>\n      <td>1</td>\n    </tr>\n    <tr>\n      <th>23</th>\n      <td>7392_1</td>\n      <td>0</td>\n    </tr>\n    <tr>\n      <th>24</th>\n      <td>10288_8</td>\n      <td>1</td>\n    </tr>\n    <tr>\n      <th>25</th>\n      <td>5343_4</td>\n      <td>0</td>\n    </tr>\n    <tr>\n      <th>26</th>\n      <td>4950_1</td>\n      <td>0</td>\n    </tr>\n    <tr>\n      <th>27</th>\n      <td>9257_4</td>\n      <td>0</td>\n    </tr>\n    <tr>\n      <th>28</th>\n      <td>8689_3</td>\n      <td>0</td>\n    </tr>\n    <tr>\n      <th>29</th>\n      <td>4480_2</td>\n      <td>0</td>\n    </tr>\n    <tr>\n      <th>...</th>\n      <td>...</td>\n      <td>...</td>\n    </tr>\n    <tr>\n      <th>24970</th>\n      <td>6857_10</td>\n      <td>1</td>\n    </tr>\n    <tr>\n      <th>24971</th>\n      <td>11091_8</td>\n      <td>1</td>\n    </tr>\n    <tr>\n      <th>24972</th>\n      <td>4167_2</td>\n      <td>0</td>\n    </tr>\n    <tr>\n      <th>24973</th>\n      <td>679_4</td>\n      <td>0</td>\n    </tr>\n    <tr>\n      <th>24974</th>\n      <td>10147_1</td>\n      <td>0</td>\n    </tr>\n    <tr>\n      <th>24975</th>\n      <td>6875_1</td>\n      <td>0</td>\n    </tr>\n    <tr>\n      <th>24976</th>\n      <td>923_10</td>\n      <td>1</td>\n    </tr>\n    <tr>\n      <th>24977</th>\n      <td>6200_8</td>\n      <td>0</td>\n    </tr>\n    <tr>\n      <th>24978</th>\n      <td>7208_8</td>\n      <td>1</td>\n    </tr>\n    <tr>\n      <th>24979</th>\n      <td>5363_8</td>\n      <td>1</td>\n    </tr>\n    <tr>\n      <th>24980</th>\n      <td>4067_8</td>\n      <td>0</td>\n    </tr>\n    <tr>\n      <th>24981</th>\n      <td>1773_7</td>\n      <td>1</td>\n    </tr>\n    <tr>\n      <th>24982</th>\n      <td>1498_10</td>\n      <td>1</td>\n    </tr>\n    <tr>\n      <th>24983</th>\n      <td>10497_10</td>\n      <td>0</td>\n    </tr>\n    <tr>\n      <th>24984</th>\n      <td>3444_10</td>\n      <td>1</td>\n    </tr>\n    <tr>\n      <th>24985</th>\n      <td>588_2</td>\n      <td>0</td>\n    </tr>\n    <tr>\n      <th>24986</th>\n      <td>9678_9</td>\n      <td>0</td>\n    </tr>\n    <tr>\n      <th>24987</th>\n      <td>1983_9</td>\n      <td>0</td>\n    </tr>\n    <tr>\n      <th>24988</th>\n      <td>5012_3</td>\n      <td>0</td>\n    </tr>\n    <tr>\n      <th>24989</th>\n      <td>12240_2</td>\n      <td>1</td>\n    </tr>\n    <tr>\n      <th>24990</th>\n      <td>5071_2</td>\n      <td>0</td>\n    </tr>\n    <tr>\n      <th>24991</th>\n      <td>5078_2</td>\n      <td>0</td>\n    </tr>\n    <tr>\n      <th>24992</th>\n      <td>10069_3</td>\n      <td>0</td>\n    </tr>\n    <tr>\n      <th>24993</th>\n      <td>7407_8</td>\n      <td>0</td>\n    </tr>\n    <tr>\n      <th>24994</th>\n      <td>7207_1</td>\n      <td>0</td>\n    </tr>\n    <tr>\n      <th>24995</th>\n      <td>2155_10</td>\n      <td>1</td>\n    </tr>\n    <tr>\n      <th>24996</th>\n      <td>59_10</td>\n      <td>1</td>\n    </tr>\n    <tr>\n      <th>24997</th>\n      <td>2531_1</td>\n      <td>1</td>\n    </tr>\n    <tr>\n      <th>24998</th>\n      <td>7772_8</td>\n      <td>1</td>\n    </tr>\n    <tr>\n      <th>24999</th>\n      <td>11465_10</td>\n      <td>0</td>\n    </tr>\n  </tbody>\n</table>\n<p>25000 rows × 2 columns</p>\n</div>"
          },
          "metadata": {}
        }
      ]
    },
    {
      "metadata": {
        "trusted": true,
        "_uuid": "824868f04fc67ceb7229dbb1dd272e07eb9d3abe"
      },
      "cell_type": "code",
      "source": "output.to_csv(\"submission.csv\", index = False, quoting = 3)",
      "execution_count": null,
      "outputs": []
    },
    {
      "metadata": {
        "trusted": true,
        "_uuid": "8f15fc18b1bc77150cf56c97447497e61301a70d"
      },
      "cell_type": "code",
      "source": "",
      "execution_count": null,
      "outputs": []
    }
  ],
  "metadata": {
    "kernelspec": {
      "display_name": "Python 3",
      "language": "python",
      "name": "python3"
    },
    "language_info": {
      "name": "python",
      "version": "3.6.6",
      "mimetype": "text/x-python",
      "codemirror_mode": {
        "name": "ipython",
        "version": 3
      },
      "pygments_lexer": "ipython3",
      "nbconvert_exporter": "python",
      "file_extension": ".py"
    }
  },
  "nbformat": 4,
  "nbformat_minor": 1
}